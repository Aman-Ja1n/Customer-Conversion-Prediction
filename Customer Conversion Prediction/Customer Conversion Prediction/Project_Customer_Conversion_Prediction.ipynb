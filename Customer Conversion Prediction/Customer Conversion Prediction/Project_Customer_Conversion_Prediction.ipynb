{
 "cells": [
  {
   "cell_type": "markdown",
   "metadata": {
    "id": "VQbkErj4YxC3"
   },
   "source": [
    "# **Customer Conversion Prediction**"
   ]
  },
  {
   "cell_type": "markdown",
   "metadata": {
    "id": "pnxmSJRxYujm"
   },
   "source": [
    "### **Problem Statement**\n",
    "You are working for a new-age insurance company and employ mutiple outreach plans to sell term insurance to your customers. Telephonic marketing campaigns still remain one of the most effective way to reach out to people however they incur a lot of cost. Hence, it is important to identify the customers that are most likely to convert beforehand so that they can be specifically targeted via call. We are given the historical marketing data of the insurance company and are required to build a ML model that will predict if a client will subscribe to the insurance. \n"
   ]
  },
  {
   "cell_type": "markdown",
   "metadata": {
    "id": "NC2_DVNcaY-0"
   },
   "source": [
    "### **Features:**\n",
    "\n",
    "*  age (numeric)\n",
    "*   job : type of job\n",
    "*   marital : marital status\n",
    "*   educational_qual : education status\n",
    "*   call_type : contact communication type\n",
    "*   day: last contact day of the month (numeric)\n",
    "*   mon: last contact month of year\n",
    "*   dur: last contact duration, in seconds (numeric)\n",
    "*   num_calls: number of contacts performed during this campaign and for this   client\n",
    "*   prev_outcome: outcome of the previous marketing campaign (categorical: \"unknown\",\"other\",\"failure\",\"success\")\n",
    "\n",
    "\n",
    "*   Output variable (desired target):\n",
    "y - has the client subscribed to the insurance?\n",
    "\n",
    "\n",
    "♦♦♦♦♦♦♦♦♦♦♦♦♦♦♦♦♦♦♦♦♦♦♦♦♦♦♦♦♦♦♦♦♦♦♦♦♦♦♦♦♦♦♦♦♦♦♦♦♦♦♦♦♦♦♦♦♦♦♦♦♦♦♦♦♦♦♦♦♦♦♦♦♦♦♦♦♦♦♦♦\n",
    "\n"
   ]
  },
  {
   "cell_type": "markdown",
   "metadata": {
    "id": "8rbK4Me6fsqk"
   },
   "source": [
    "# **Basic Analysis of Dataset from Problem Statement and Features**\n",
    "\n",
    "*   It is a supervised learning problem - We are predicting target variable\n",
    "*   From target varible we can clearly understand it is a classification problem\n",
    "*   From target variable we can tell it is a binary classification problem.   target = (y/n)\n"
   ]
  },
  {
   "cell_type": "markdown",
   "metadata": {
    "id": "H9OqQj2TdtHM"
   },
   "source": [
    "# **Importing Libraries**"
   ]
  },
  {
   "cell_type": "code",
   "execution_count": 2,
   "metadata": {
    "id": "a7mEt_OHaKsl"
   },
   "outputs": [],
   "source": [
    "import pandas as pd\n",
    "import numpy as np\n",
    "import matplotlib.pyplot as plt\n",
    "import seaborn as sns"
   ]
  },
  {
   "cell_type": "code",
   "execution_count": 3,
   "metadata": {
    "id": "VKemzKJflY-F"
   },
   "outputs": [],
   "source": [
    "#To ignore warnings\n",
    "import warnings\n",
    "warnings.filterwarnings(\"ignore\")  "
   ]
  },
  {
   "cell_type": "markdown",
   "metadata": {
    "id": "tkdJ_ToCeGkU"
   },
   "source": [
    "# **Loading Dataset**"
   ]
  },
  {
   "cell_type": "code",
   "execution_count": 4,
   "metadata": {
    "id": "9y4vGzPneLht"
   },
   "outputs": [],
   "source": [
    "df=pd.read_csv(\"./train.csv\")"
   ]
  },
  {
   "cell_type": "markdown",
   "metadata": {
    "id": "RnZy10f4gQhT"
   },
   "source": [
    "# **Analysis of Data**"
   ]
  },
  {
   "cell_type": "code",
   "execution_count": 5,
   "metadata": {
    "colab": {
     "base_uri": "https://localhost:8080/"
    },
    "id": "rkESxjTGgp28",
    "outputId": "eca9f5ad-b90f-4b78-c724-7b33fae94946"
   },
   "outputs": [
    {
     "name": "stdout",
     "output_type": "stream",
     "text": [
      "Data set size :  (45211, 11)\n"
     ]
    }
   ],
   "source": [
    "# Checking size of dataset\n",
    "print(\"Data set size : \", df.shape)"
   ]
  },
  {
   "cell_type": "markdown",
   "metadata": {
    "id": "m2ECUS4Ip4UC"
   },
   "source": [
    "From the above result no of rows are 45211 and no of columns are 11"
   ]
  },
  {
   "cell_type": "code",
   "execution_count": 6,
   "metadata": {
    "colab": {
     "base_uri": "https://localhost:8080/",
     "height": 206
    },
    "id": "2Icg-yjXfDC8",
    "outputId": "c987e9a9-d690-4a9a-921f-7255a212769f"
   },
   "outputs": [
    {
     "data": {
      "text/html": [
       "<div>\n",
       "<style scoped>\n",
       "    .dataframe tbody tr th:only-of-type {\n",
       "        vertical-align: middle;\n",
       "    }\n",
       "\n",
       "    .dataframe tbody tr th {\n",
       "        vertical-align: top;\n",
       "    }\n",
       "\n",
       "    .dataframe thead th {\n",
       "        text-align: right;\n",
       "    }\n",
       "</style>\n",
       "<table border=\"1\" class=\"dataframe\">\n",
       "  <thead>\n",
       "    <tr style=\"text-align: right;\">\n",
       "      <th></th>\n",
       "      <th>age</th>\n",
       "      <th>job</th>\n",
       "      <th>marital</th>\n",
       "      <th>education_qual</th>\n",
       "      <th>call_type</th>\n",
       "      <th>day</th>\n",
       "      <th>mon</th>\n",
       "      <th>dur</th>\n",
       "      <th>num_calls</th>\n",
       "      <th>prev_outcome</th>\n",
       "      <th>y</th>\n",
       "    </tr>\n",
       "  </thead>\n",
       "  <tbody>\n",
       "    <tr>\n",
       "      <th>0</th>\n",
       "      <td>58</td>\n",
       "      <td>management</td>\n",
       "      <td>married</td>\n",
       "      <td>tertiary</td>\n",
       "      <td>unknown</td>\n",
       "      <td>5</td>\n",
       "      <td>may</td>\n",
       "      <td>261</td>\n",
       "      <td>1</td>\n",
       "      <td>unknown</td>\n",
       "      <td>no</td>\n",
       "    </tr>\n",
       "    <tr>\n",
       "      <th>1</th>\n",
       "      <td>44</td>\n",
       "      <td>technician</td>\n",
       "      <td>single</td>\n",
       "      <td>secondary</td>\n",
       "      <td>unknown</td>\n",
       "      <td>5</td>\n",
       "      <td>may</td>\n",
       "      <td>151</td>\n",
       "      <td>1</td>\n",
       "      <td>unknown</td>\n",
       "      <td>no</td>\n",
       "    </tr>\n",
       "    <tr>\n",
       "      <th>2</th>\n",
       "      <td>33</td>\n",
       "      <td>entrepreneur</td>\n",
       "      <td>married</td>\n",
       "      <td>secondary</td>\n",
       "      <td>unknown</td>\n",
       "      <td>5</td>\n",
       "      <td>may</td>\n",
       "      <td>76</td>\n",
       "      <td>1</td>\n",
       "      <td>unknown</td>\n",
       "      <td>no</td>\n",
       "    </tr>\n",
       "    <tr>\n",
       "      <th>3</th>\n",
       "      <td>47</td>\n",
       "      <td>blue-collar</td>\n",
       "      <td>married</td>\n",
       "      <td>unknown</td>\n",
       "      <td>unknown</td>\n",
       "      <td>5</td>\n",
       "      <td>may</td>\n",
       "      <td>92</td>\n",
       "      <td>1</td>\n",
       "      <td>unknown</td>\n",
       "      <td>no</td>\n",
       "    </tr>\n",
       "    <tr>\n",
       "      <th>4</th>\n",
       "      <td>33</td>\n",
       "      <td>unknown</td>\n",
       "      <td>single</td>\n",
       "      <td>unknown</td>\n",
       "      <td>unknown</td>\n",
       "      <td>5</td>\n",
       "      <td>may</td>\n",
       "      <td>198</td>\n",
       "      <td>1</td>\n",
       "      <td>unknown</td>\n",
       "      <td>no</td>\n",
       "    </tr>\n",
       "  </tbody>\n",
       "</table>\n",
       "</div>"
      ],
      "text/plain": [
       "   age           job  marital education_qual call_type  day  mon  dur  \\\n",
       "0   58    management  married       tertiary   unknown    5  may  261   \n",
       "1   44    technician   single      secondary   unknown    5  may  151   \n",
       "2   33  entrepreneur  married      secondary   unknown    5  may   76   \n",
       "3   47   blue-collar  married        unknown   unknown    5  may   92   \n",
       "4   33       unknown   single        unknown   unknown    5  may  198   \n",
       "\n",
       "   num_calls prev_outcome   y  \n",
       "0          1      unknown  no  \n",
       "1          1      unknown  no  \n",
       "2          1      unknown  no  \n",
       "3          1      unknown  no  \n",
       "4          1      unknown  no  "
      ]
     },
     "execution_count": 6,
     "metadata": {},
     "output_type": "execute_result"
    }
   ],
   "source": [
    "#Fetching top 5 row in dataset\n",
    "df.head()"
   ]
  },
  {
   "cell_type": "code",
   "execution_count": 7,
   "metadata": {
    "colab": {
     "base_uri": "https://localhost:8080/",
     "height": 206
    },
    "id": "awOaZE22nz3W",
    "outputId": "9884e72c-e06f-422a-aaeb-8aff8f91b120"
   },
   "outputs": [
    {
     "data": {
      "text/html": [
       "<div>\n",
       "<style scoped>\n",
       "    .dataframe tbody tr th:only-of-type {\n",
       "        vertical-align: middle;\n",
       "    }\n",
       "\n",
       "    .dataframe tbody tr th {\n",
       "        vertical-align: top;\n",
       "    }\n",
       "\n",
       "    .dataframe thead th {\n",
       "        text-align: right;\n",
       "    }\n",
       "</style>\n",
       "<table border=\"1\" class=\"dataframe\">\n",
       "  <thead>\n",
       "    <tr style=\"text-align: right;\">\n",
       "      <th></th>\n",
       "      <th>age</th>\n",
       "      <th>job</th>\n",
       "      <th>marital</th>\n",
       "      <th>education_qual</th>\n",
       "      <th>call_type</th>\n",
       "      <th>day</th>\n",
       "      <th>mon</th>\n",
       "      <th>dur</th>\n",
       "      <th>num_calls</th>\n",
       "      <th>prev_outcome</th>\n",
       "      <th>y</th>\n",
       "    </tr>\n",
       "  </thead>\n",
       "  <tbody>\n",
       "    <tr>\n",
       "      <th>45206</th>\n",
       "      <td>51</td>\n",
       "      <td>technician</td>\n",
       "      <td>married</td>\n",
       "      <td>tertiary</td>\n",
       "      <td>cellular</td>\n",
       "      <td>17</td>\n",
       "      <td>nov</td>\n",
       "      <td>977</td>\n",
       "      <td>3</td>\n",
       "      <td>unknown</td>\n",
       "      <td>yes</td>\n",
       "    </tr>\n",
       "    <tr>\n",
       "      <th>45207</th>\n",
       "      <td>71</td>\n",
       "      <td>retired</td>\n",
       "      <td>divorced</td>\n",
       "      <td>primary</td>\n",
       "      <td>cellular</td>\n",
       "      <td>17</td>\n",
       "      <td>nov</td>\n",
       "      <td>456</td>\n",
       "      <td>2</td>\n",
       "      <td>unknown</td>\n",
       "      <td>yes</td>\n",
       "    </tr>\n",
       "    <tr>\n",
       "      <th>45208</th>\n",
       "      <td>72</td>\n",
       "      <td>retired</td>\n",
       "      <td>married</td>\n",
       "      <td>secondary</td>\n",
       "      <td>cellular</td>\n",
       "      <td>17</td>\n",
       "      <td>nov</td>\n",
       "      <td>1127</td>\n",
       "      <td>5</td>\n",
       "      <td>success</td>\n",
       "      <td>yes</td>\n",
       "    </tr>\n",
       "    <tr>\n",
       "      <th>45209</th>\n",
       "      <td>57</td>\n",
       "      <td>blue-collar</td>\n",
       "      <td>married</td>\n",
       "      <td>secondary</td>\n",
       "      <td>telephone</td>\n",
       "      <td>17</td>\n",
       "      <td>nov</td>\n",
       "      <td>508</td>\n",
       "      <td>4</td>\n",
       "      <td>unknown</td>\n",
       "      <td>no</td>\n",
       "    </tr>\n",
       "    <tr>\n",
       "      <th>45210</th>\n",
       "      <td>37</td>\n",
       "      <td>entrepreneur</td>\n",
       "      <td>married</td>\n",
       "      <td>secondary</td>\n",
       "      <td>cellular</td>\n",
       "      <td>17</td>\n",
       "      <td>nov</td>\n",
       "      <td>361</td>\n",
       "      <td>2</td>\n",
       "      <td>other</td>\n",
       "      <td>no</td>\n",
       "    </tr>\n",
       "  </tbody>\n",
       "</table>\n",
       "</div>"
      ],
      "text/plain": [
       "       age           job   marital education_qual  call_type  day  mon   dur  \\\n",
       "45206   51    technician   married       tertiary   cellular   17  nov   977   \n",
       "45207   71       retired  divorced        primary   cellular   17  nov   456   \n",
       "45208   72       retired   married      secondary   cellular   17  nov  1127   \n",
       "45209   57   blue-collar   married      secondary  telephone   17  nov   508   \n",
       "45210   37  entrepreneur   married      secondary   cellular   17  nov   361   \n",
       "\n",
       "       num_calls prev_outcome    y  \n",
       "45206          3      unknown  yes  \n",
       "45207          2      unknown  yes  \n",
       "45208          5      success  yes  \n",
       "45209          4      unknown   no  \n",
       "45210          2        other   no  "
      ]
     },
     "execution_count": 7,
     "metadata": {},
     "output_type": "execute_result"
    }
   ],
   "source": [
    "#Fetching Bottom 5 rows\n",
    "df.tail()"
   ]
  },
  {
   "cell_type": "code",
   "execution_count": 8,
   "metadata": {
    "colab": {
     "base_uri": "https://localhost:8080/"
    },
    "id": "VQuVnVGy4p_g",
    "outputId": "f5567dd6-c9ab-49e7-821c-4e98fe3f8658"
   },
   "outputs": [
    {
     "data": {
      "text/plain": [
       "Index(['age', 'job', 'marital', 'education_qual', 'call_type', 'day', 'mon',\n",
       "       'dur', 'num_calls', 'prev_outcome', 'y'],\n",
       "      dtype='object')"
      ]
     },
     "execution_count": 8,
     "metadata": {},
     "output_type": "execute_result"
    }
   ],
   "source": [
    "#finding the column names\n",
    "df.columns"
   ]
  },
  {
   "cell_type": "code",
   "execution_count": 9,
   "metadata": {
    "colab": {
     "base_uri": "https://localhost:8080/",
     "height": 300
    },
    "id": "lS_XYHCmiWIF",
    "outputId": "3f371950-0585-4e55-bc2d-5ac6d1091a58"
   },
   "outputs": [
    {
     "data": {
      "text/html": [
       "<div>\n",
       "<style scoped>\n",
       "    .dataframe tbody tr th:only-of-type {\n",
       "        vertical-align: middle;\n",
       "    }\n",
       "\n",
       "    .dataframe tbody tr th {\n",
       "        vertical-align: top;\n",
       "    }\n",
       "\n",
       "    .dataframe thead th {\n",
       "        text-align: right;\n",
       "    }\n",
       "</style>\n",
       "<table border=\"1\" class=\"dataframe\">\n",
       "  <thead>\n",
       "    <tr style=\"text-align: right;\">\n",
       "      <th></th>\n",
       "      <th>age</th>\n",
       "      <th>day</th>\n",
       "      <th>dur</th>\n",
       "      <th>num_calls</th>\n",
       "    </tr>\n",
       "  </thead>\n",
       "  <tbody>\n",
       "    <tr>\n",
       "      <th>count</th>\n",
       "      <td>45211.000000</td>\n",
       "      <td>45211.000000</td>\n",
       "      <td>45211.000000</td>\n",
       "      <td>45211.000000</td>\n",
       "    </tr>\n",
       "    <tr>\n",
       "      <th>mean</th>\n",
       "      <td>40.936210</td>\n",
       "      <td>15.806419</td>\n",
       "      <td>258.163080</td>\n",
       "      <td>2.763841</td>\n",
       "    </tr>\n",
       "    <tr>\n",
       "      <th>std</th>\n",
       "      <td>10.618762</td>\n",
       "      <td>8.322476</td>\n",
       "      <td>257.527812</td>\n",
       "      <td>3.098021</td>\n",
       "    </tr>\n",
       "    <tr>\n",
       "      <th>min</th>\n",
       "      <td>18.000000</td>\n",
       "      <td>1.000000</td>\n",
       "      <td>0.000000</td>\n",
       "      <td>1.000000</td>\n",
       "    </tr>\n",
       "    <tr>\n",
       "      <th>25%</th>\n",
       "      <td>33.000000</td>\n",
       "      <td>8.000000</td>\n",
       "      <td>103.000000</td>\n",
       "      <td>1.000000</td>\n",
       "    </tr>\n",
       "    <tr>\n",
       "      <th>50%</th>\n",
       "      <td>39.000000</td>\n",
       "      <td>16.000000</td>\n",
       "      <td>180.000000</td>\n",
       "      <td>2.000000</td>\n",
       "    </tr>\n",
       "    <tr>\n",
       "      <th>75%</th>\n",
       "      <td>48.000000</td>\n",
       "      <td>21.000000</td>\n",
       "      <td>319.000000</td>\n",
       "      <td>3.000000</td>\n",
       "    </tr>\n",
       "    <tr>\n",
       "      <th>max</th>\n",
       "      <td>95.000000</td>\n",
       "      <td>31.000000</td>\n",
       "      <td>4918.000000</td>\n",
       "      <td>63.000000</td>\n",
       "    </tr>\n",
       "  </tbody>\n",
       "</table>\n",
       "</div>"
      ],
      "text/plain": [
       "                age           day           dur     num_calls\n",
       "count  45211.000000  45211.000000  45211.000000  45211.000000\n",
       "mean      40.936210     15.806419    258.163080      2.763841\n",
       "std       10.618762      8.322476    257.527812      3.098021\n",
       "min       18.000000      1.000000      0.000000      1.000000\n",
       "25%       33.000000      8.000000    103.000000      1.000000\n",
       "50%       39.000000     16.000000    180.000000      2.000000\n",
       "75%       48.000000     21.000000    319.000000      3.000000\n",
       "max       95.000000     31.000000   4918.000000     63.000000"
      ]
     },
     "execution_count": 9,
     "metadata": {},
     "output_type": "execute_result"
    }
   ],
   "source": [
    "#Basic statistical analysis of dataset\n",
    "df.describe()"
   ]
  },
  {
   "cell_type": "markdown",
   "metadata": {
    "id": "nDZ9fun8qSoK"
   },
   "source": [
    "From statistical result we can understatnd the basic statistical report of min, max, percentile, mean and standard deviation"
   ]
  },
  {
   "cell_type": "code",
   "execution_count": 10,
   "metadata": {
    "colab": {
     "base_uri": "https://localhost:8080/"
    },
    "id": "S5JtnMwo1yPR",
    "outputId": "353b8d32-e8b0-4de6-d089-b6921618d425"
   },
   "outputs": [
    {
     "data": {
      "text/plain": [
       "y\n",
       "no     39922\n",
       "yes     5289\n",
       "Name: count, dtype: int64"
      ]
     },
     "execution_count": 10,
     "metadata": {},
     "output_type": "execute_result"
    }
   ],
   "source": [
    "#checking for the data is balanced or not\n",
    "df['y'].value_counts()"
   ]
  },
  {
   "cell_type": "markdown",
   "metadata": {
    "id": "VAPtNylY2rKg"
   },
   "source": [
    "From the above result we can clearly understand that the dataset is imbalanced. Lets find the percentage."
   ]
  },
  {
   "cell_type": "code",
   "execution_count": 11,
   "metadata": {
    "colab": {
     "base_uri": "https://localhost:8080/"
    },
    "id": "KJjD-3l92jww",
    "outputId": "a8e797cb-6373-4563-c904-f214cb7d1e42"
   },
   "outputs": [
    {
     "name": "stdout",
     "output_type": "stream",
     "text": [
      "Percentage for \"no\":  88.29996681782988\n",
      "Percentage for \"yes\":  11.700033182170113\n"
     ]
    }
   ],
   "source": [
    "#Finding the percentage of the data\n",
    "print('Percentage for \"no\": ',((39916) / (39916+5289)) * 100 )\n",
    "print('Percentage for \"yes\": ',((5289) / (39916+5289)) * 100 )"
   ]
  },
  {
   "cell_type": "markdown",
   "metadata": {
    "id": "073LCVS73vHQ"
   },
   "source": [
    "from the above result we can clearly understand that the percentage for no is very high so the Majority class \"no\" with 88.29% and Minority class \"yes\" with 11.7%."
   ]
  },
  {
   "cell_type": "markdown",
   "metadata": {
    "id": "-kdqDTQSpLPz"
   },
   "source": [
    "# **Data Preprocessing**\n",
    "# **Data Cleaning**\n",
    "\n",
    "Data cleaning is the process of identifying and correcting or removing errors, inconsistencies, and inaccuracies in a dataset to improve its quality and ensure that it is ready for analysis. It involves tasks such as handling missing or duplicate data, correcting data types, and removing outliers or irrelevant information."
   ]
  },
  {
   "cell_type": "markdown",
   "metadata": {
    "id": "kE8h84eTpP3d"
   },
   "source": [
    "### **Missing Values**"
   ]
  },
  {
   "cell_type": "code",
   "execution_count": 12,
   "metadata": {
    "colab": {
     "base_uri": "https://localhost:8080/"
    },
    "id": "QjgGMubXpIuj",
    "outputId": "fede87be-140a-44ef-ba53-ef6eff79f3a4"
   },
   "outputs": [
    {
     "data": {
      "text/plain": [
       "age               0\n",
       "job               0\n",
       "marital           0\n",
       "education_qual    0\n",
       "call_type         0\n",
       "day               0\n",
       "mon               0\n",
       "dur               0\n",
       "num_calls         0\n",
       "prev_outcome      0\n",
       "y                 0\n",
       "dtype: int64"
      ]
     },
     "execution_count": 12,
     "metadata": {},
     "output_type": "execute_result"
    }
   ],
   "source": [
    "#checking for null values\n",
    "df.isnull().sum()"
   ]
  },
  {
   "cell_type": "markdown",
   "metadata": {
    "id": "darGjvCUwiSD"
   },
   "source": [
    "### **Finding Duplicate Values**"
   ]
  },
  {
   "cell_type": "code",
   "execution_count": 13,
   "metadata": {
    "colab": {
     "base_uri": "https://localhost:8080/"
    },
    "id": "3iWB5b1bsOjT",
    "outputId": "605bdfd3-7ceb-4d95-f0d9-eba6f9e99f45"
   },
   "outputs": [
    {
     "data": {
      "text/plain": [
       "6"
      ]
     },
     "execution_count": 13,
     "metadata": {},
     "output_type": "execute_result"
    }
   ],
   "source": [
    "#checking for no of duplicate values\n",
    "df.duplicated().sum()"
   ]
  },
  {
   "cell_type": "markdown",
   "metadata": {
    "id": "owMWrB-Yw6Hg"
   },
   "source": [
    "From the above result we can find 6 duplicate datas. So will drop the duplicates."
   ]
  },
  {
   "cell_type": "code",
   "execution_count": 14,
   "metadata": {
    "id": "-hQ0U66Nxlr9"
   },
   "outputs": [],
   "source": [
    "#droping duplicates\n",
    "df = df.drop_duplicates()"
   ]
  },
  {
   "cell_type": "code",
   "execution_count": 15,
   "metadata": {
    "colab": {
     "base_uri": "https://localhost:8080/"
    },
    "id": "hY1GVjSvyD1x",
    "outputId": "ed19b580-8a06-485b-f8af-0b4117d6c809"
   },
   "outputs": [
    {
     "data": {
      "text/plain": [
       "0"
      ]
     },
     "execution_count": 15,
     "metadata": {},
     "output_type": "execute_result"
    }
   ],
   "source": [
    "#after droping agin check for no of duplicates\n",
    "df.duplicated().sum()"
   ]
  },
  {
   "cell_type": "markdown",
   "metadata": {
    "id": "NpES5k96yJgp"
   },
   "source": [
    "Duplicates are removed from dataset."
   ]
  },
  {
   "cell_type": "markdown",
   "metadata": {
    "id": "gADmH2SWyP74"
   },
   "source": [
    "### **Checking Data Type**"
   ]
  },
  {
   "cell_type": "code",
   "execution_count": 16,
   "metadata": {
    "colab": {
     "base_uri": "https://localhost:8080/"
    },
    "id": "7sjoEG7oyzQ5",
    "outputId": "6a36209b-b316-4834-c628-da8b6c417690"
   },
   "outputs": [
    {
     "data": {
      "text/plain": [
       "age                int64\n",
       "job               object\n",
       "marital           object\n",
       "education_qual    object\n",
       "call_type         object\n",
       "day                int64\n",
       "mon               object\n",
       "dur                int64\n",
       "num_calls          int64\n",
       "prev_outcome      object\n",
       "y                 object\n",
       "dtype: object"
      ]
     },
     "execution_count": 16,
     "metadata": {},
     "output_type": "execute_result"
    }
   ],
   "source": [
    "df.dtypes"
   ]
  },
  {
   "cell_type": "markdown",
   "metadata": {
    "id": "VdwN5bN_z9-E"
   },
   "source": [
    "There is no need to change any datatype of the columns"
   ]
  },
  {
   "cell_type": "markdown",
   "metadata": {
    "id": "nAiv-ENG5cEw"
   },
   "source": [
    "### **Unique Values of Categorical Column**"
   ]
  },
  {
   "cell_type": "code",
   "execution_count": 17,
   "metadata": {
    "colab": {
     "base_uri": "https://localhost:8080/"
    },
    "id": "FrqS7yB25mfH",
    "outputId": "2b6ea988-3cc6-4ce6-8110-3b5cece09bd9"
   },
   "outputs": [
    {
     "name": "stdout",
     "output_type": "stream",
     "text": [
      "Unique values of Job \n",
      "\n",
      "['management' 'technician' 'entrepreneur' 'blue-collar' 'unknown'\n",
      " 'retired' 'admin.' 'services' 'self-employed' 'unemployed' 'housemaid'\n",
      " 'student']\n"
     ]
    }
   ],
   "source": [
    "print(\"Unique values of Job \\n\")\n",
    "print(df['job'].unique())"
   ]
  },
  {
   "cell_type": "code",
   "execution_count": 18,
   "metadata": {
    "colab": {
     "base_uri": "https://localhost:8080/"
    },
    "id": "UOo8_Pm_6cNH",
    "outputId": "9f6555b3-c69c-4952-bc3e-4060ddc557b5"
   },
   "outputs": [
    {
     "name": "stdout",
     "output_type": "stream",
     "text": [
      "Unique values of Marital Status \n",
      "\n",
      "['married' 'single' 'divorced']\n"
     ]
    }
   ],
   "source": [
    "print(\"Unique values of Marital Status \\n\")\n",
    "print(df['marital'].unique())"
   ]
  },
  {
   "cell_type": "code",
   "execution_count": 19,
   "metadata": {
    "colab": {
     "base_uri": "https://localhost:8080/"
    },
    "id": "QejbTdAf69dG",
    "outputId": "21f841e9-785c-46de-c76c-063759dd2c40"
   },
   "outputs": [
    {
     "name": "stdout",
     "output_type": "stream",
     "text": [
      "Unique values of Educationsl Qualification \n",
      "\n",
      "['tertiary' 'secondary' 'unknown' 'primary']\n"
     ]
    }
   ],
   "source": [
    "print(\"Unique values of Educationsl Qualification \\n\")\n",
    "print(df['education_qual'].unique())"
   ]
  },
  {
   "cell_type": "code",
   "execution_count": 20,
   "metadata": {
    "colab": {
     "base_uri": "https://localhost:8080/"
    },
    "id": "JhT4SF9g69am",
    "outputId": "137c89bb-1484-4693-bfad-cd3e2dfca4bd"
   },
   "outputs": [
    {
     "name": "stdout",
     "output_type": "stream",
     "text": [
      "Unique values of Call Type \n",
      "\n",
      "['unknown' 'cellular' 'telephone']\n"
     ]
    }
   ],
   "source": [
    "print(\"Unique values of Call Type \\n\")\n",
    "print(df['call_type'].unique())"
   ]
  },
  {
   "cell_type": "code",
   "execution_count": 21,
   "metadata": {
    "colab": {
     "base_uri": "https://localhost:8080/"
    },
    "id": "D0sCVwUB69XE",
    "outputId": "371f9f96-c856-4ed7-bd38-5754e539db6e"
   },
   "outputs": [
    {
     "name": "stdout",
     "output_type": "stream",
     "text": [
      "Unique values of Month \n",
      "\n",
      "['may' 'jun' 'jul' 'aug' 'oct' 'nov' 'dec' 'jan' 'feb' 'mar' 'apr' 'sep']\n"
     ]
    }
   ],
   "source": [
    "print(\"Unique values of Month \\n\")\n",
    "print(df['mon'].unique())"
   ]
  },
  {
   "cell_type": "code",
   "execution_count": 22,
   "metadata": {
    "colab": {
     "base_uri": "https://localhost:8080/"
    },
    "id": "ZQzLicrD69Tn",
    "outputId": "ad95ddc6-8bb3-4d81-83d4-6d1cebe8a319"
   },
   "outputs": [
    {
     "name": "stdout",
     "output_type": "stream",
     "text": [
      "Unique values of Previous Outcome \n",
      "\n",
      "['unknown' 'failure' 'other' 'success']\n"
     ]
    }
   ],
   "source": [
    "print(\"Unique values of Previous Outcome \\n\")\n",
    "print(df['prev_outcome'].unique())"
   ]
  },
  {
   "cell_type": "code",
   "execution_count": 23,
   "metadata": {
    "colab": {
     "base_uri": "https://localhost:8080/"
    },
    "id": "lM-uT3NT9Yyq",
    "outputId": "913360a2-663e-43a7-f615-b609e08b413e"
   },
   "outputs": [
    {
     "name": "stdout",
     "output_type": "stream",
     "text": [
      "Unique values of Target Variable 'y' \n",
      "\n",
      "['no' 'yes']\n"
     ]
    }
   ],
   "source": [
    "print(\"Unique values of Target Variable 'y' \\n\")\n",
    "print(df['y'].unique())"
   ]
  },
  {
   "cell_type": "markdown",
   "metadata": {
    "id": "yrE81WDI9zQf"
   },
   "source": [
    "From all the above results all values are unique which means there is no incorrect or wrong data that is spelling mistake, upper case and lower case mismatch of each values."
   ]
  },
  {
   "cell_type": "markdown",
   "metadata": {
    "id": "vShLT4UHM1Yl"
   },
   "source": [
    "### **Exploring the Dataset and replace the unknown values**"
   ]
  },
  {
   "cell_type": "markdown",
   "metadata": {
    "id": "YSFkS-tlpXi4"
   },
   "source": [
    "**Converting categorical Target column into numerical column.**"
   ]
  },
  {
   "cell_type": "code",
   "execution_count": 24,
   "metadata": {
    "id": "cjrqQ7tGpK2z"
   },
   "outputs": [],
   "source": [
    "df['target'] = df[\"y\"].map({\"yes\":1 , \"no\": 0})"
   ]
  },
  {
   "cell_type": "code",
   "execution_count": 25,
   "metadata": {
    "colab": {
     "base_uri": "https://localhost:8080/",
     "height": 206
    },
    "id": "hbfHsBxBp0zw",
    "outputId": "754a15a8-3e9d-4d20-dde2-efd8569e997b"
   },
   "outputs": [
    {
     "data": {
      "text/html": [
       "<div>\n",
       "<style scoped>\n",
       "    .dataframe tbody tr th:only-of-type {\n",
       "        vertical-align: middle;\n",
       "    }\n",
       "\n",
       "    .dataframe tbody tr th {\n",
       "        vertical-align: top;\n",
       "    }\n",
       "\n",
       "    .dataframe thead th {\n",
       "        text-align: right;\n",
       "    }\n",
       "</style>\n",
       "<table border=\"1\" class=\"dataframe\">\n",
       "  <thead>\n",
       "    <tr style=\"text-align: right;\">\n",
       "      <th></th>\n",
       "      <th>age</th>\n",
       "      <th>job</th>\n",
       "      <th>marital</th>\n",
       "      <th>education_qual</th>\n",
       "      <th>call_type</th>\n",
       "      <th>day</th>\n",
       "      <th>mon</th>\n",
       "      <th>dur</th>\n",
       "      <th>num_calls</th>\n",
       "      <th>prev_outcome</th>\n",
       "      <th>y</th>\n",
       "      <th>target</th>\n",
       "    </tr>\n",
       "  </thead>\n",
       "  <tbody>\n",
       "    <tr>\n",
       "      <th>0</th>\n",
       "      <td>58</td>\n",
       "      <td>management</td>\n",
       "      <td>married</td>\n",
       "      <td>tertiary</td>\n",
       "      <td>unknown</td>\n",
       "      <td>5</td>\n",
       "      <td>may</td>\n",
       "      <td>261</td>\n",
       "      <td>1</td>\n",
       "      <td>unknown</td>\n",
       "      <td>no</td>\n",
       "      <td>0</td>\n",
       "    </tr>\n",
       "    <tr>\n",
       "      <th>1</th>\n",
       "      <td>44</td>\n",
       "      <td>technician</td>\n",
       "      <td>single</td>\n",
       "      <td>secondary</td>\n",
       "      <td>unknown</td>\n",
       "      <td>5</td>\n",
       "      <td>may</td>\n",
       "      <td>151</td>\n",
       "      <td>1</td>\n",
       "      <td>unknown</td>\n",
       "      <td>no</td>\n",
       "      <td>0</td>\n",
       "    </tr>\n",
       "    <tr>\n",
       "      <th>2</th>\n",
       "      <td>33</td>\n",
       "      <td>entrepreneur</td>\n",
       "      <td>married</td>\n",
       "      <td>secondary</td>\n",
       "      <td>unknown</td>\n",
       "      <td>5</td>\n",
       "      <td>may</td>\n",
       "      <td>76</td>\n",
       "      <td>1</td>\n",
       "      <td>unknown</td>\n",
       "      <td>no</td>\n",
       "      <td>0</td>\n",
       "    </tr>\n",
       "    <tr>\n",
       "      <th>3</th>\n",
       "      <td>47</td>\n",
       "      <td>blue-collar</td>\n",
       "      <td>married</td>\n",
       "      <td>unknown</td>\n",
       "      <td>unknown</td>\n",
       "      <td>5</td>\n",
       "      <td>may</td>\n",
       "      <td>92</td>\n",
       "      <td>1</td>\n",
       "      <td>unknown</td>\n",
       "      <td>no</td>\n",
       "      <td>0</td>\n",
       "    </tr>\n",
       "    <tr>\n",
       "      <th>4</th>\n",
       "      <td>33</td>\n",
       "      <td>unknown</td>\n",
       "      <td>single</td>\n",
       "      <td>unknown</td>\n",
       "      <td>unknown</td>\n",
       "      <td>5</td>\n",
       "      <td>may</td>\n",
       "      <td>198</td>\n",
       "      <td>1</td>\n",
       "      <td>unknown</td>\n",
       "      <td>no</td>\n",
       "      <td>0</td>\n",
       "    </tr>\n",
       "  </tbody>\n",
       "</table>\n",
       "</div>"
      ],
      "text/plain": [
       "   age           job  marital education_qual call_type  day  mon  dur  \\\n",
       "0   58    management  married       tertiary   unknown    5  may  261   \n",
       "1   44    technician   single      secondary   unknown    5  may  151   \n",
       "2   33  entrepreneur  married      secondary   unknown    5  may   76   \n",
       "3   47   blue-collar  married        unknown   unknown    5  may   92   \n",
       "4   33       unknown   single        unknown   unknown    5  may  198   \n",
       "\n",
       "   num_calls prev_outcome   y  target  \n",
       "0          1      unknown  no       0  \n",
       "1          1      unknown  no       0  \n",
       "2          1      unknown  no       0  \n",
       "3          1      unknown  no       0  \n",
       "4          1      unknown  no       0  "
      ]
     },
     "execution_count": 25,
     "metadata": {},
     "output_type": "execute_result"
    }
   ],
   "source": [
    "df.head()"
   ]
  },
  {
   "cell_type": "markdown",
   "metadata": {
    "id": "sngZ8O7H-7dP"
   },
   "source": [
    "**Age**"
   ]
  },
  {
   "cell_type": "code",
   "execution_count": 26,
   "metadata": {
    "colab": {
     "base_uri": "https://localhost:8080/"
    },
    "id": "y3i3oKdIM5OW",
    "outputId": "3275f963-7771-40a1-c5f4-94a25f549d63"
   },
   "outputs": [
    {
     "data": {
      "text/plain": [
       "age\n",
       "32    2084\n",
       "31    1996\n",
       "33    1972\n",
       "34    1929\n",
       "35    1894\n",
       "      ... \n",
       "93       2\n",
       "90       2\n",
       "95       2\n",
       "88       2\n",
       "94       1\n",
       "Name: count, Length: 77, dtype: int64"
      ]
     },
     "execution_count": 26,
     "metadata": {},
     "output_type": "execute_result"
    }
   ],
   "source": [
    "#no of counts for particular age \n",
    "df.age.value_counts()"
   ]
  },
  {
   "cell_type": "code",
   "execution_count": 27,
   "metadata": {
    "colab": {
     "base_uri": "https://localhost:8080/"
    },
    "id": "VKtKIWY1qBdQ",
    "outputId": "5bb02ab0-12fb-4037-f99e-f7365dc13b0f"
   },
   "outputs": [
    {
     "data": {
      "text/plain": [
       "age\n",
       "18    0.583333\n",
       "19    0.314286\n",
       "20    0.300000\n",
       "21    0.278481\n",
       "22    0.310078\n",
       "        ...   \n",
       "90    1.000000\n",
       "92    1.000000\n",
       "93    1.000000\n",
       "94    0.000000\n",
       "95    0.500000\n",
       "Name: target, Length: 77, dtype: float64"
      ]
     },
     "execution_count": 27,
     "metadata": {},
     "output_type": "execute_result"
    }
   ],
   "source": [
    "#checking for the percentage of how many people get insured? compared with Target vs Age\n",
    "df.groupby('age')['target'].mean()"
   ]
  },
  {
   "cell_type": "markdown",
   "metadata": {
    "id": "lwj91e9r_AAX"
   },
   "source": [
    "**Job**"
   ]
  },
  {
   "cell_type": "code",
   "execution_count": 28,
   "metadata": {
    "colab": {
     "base_uri": "https://localhost:8080/"
    },
    "id": "YM6GF6yZNXk1",
    "outputId": "e0d2bec4-7ec3-4aca-c4e6-641a3efd9992"
   },
   "outputs": [
    {
     "data": {
      "text/plain": [
       "job\n",
       "blue-collar      9730\n",
       "management       9457\n",
       "technician       7596\n",
       "admin.           5170\n",
       "services         4153\n",
       "retired          2264\n",
       "self-employed    1579\n",
       "entrepreneur     1487\n",
       "unemployed       1303\n",
       "housemaid        1240\n",
       "student           938\n",
       "unknown           288\n",
       "Name: count, dtype: int64"
      ]
     },
     "execution_count": 28,
     "metadata": {},
     "output_type": "execute_result"
    }
   ],
   "source": [
    "#no of counts for particular job\n",
    "df.job.value_counts()"
   ]
  },
  {
   "cell_type": "code",
   "execution_count": 29,
   "metadata": {
    "colab": {
     "base_uri": "https://localhost:8080/"
    },
    "id": "oru_Zc9Sqa6X",
    "outputId": "a813d8db-8c0a-4166-c93d-b762e6ffa3ad"
   },
   "outputs": [
    {
     "data": {
      "text/plain": [
       "job\n",
       "admin.           0.122050\n",
       "blue-collar      0.072765\n",
       "entrepreneur     0.082717\n",
       "housemaid        0.087903\n",
       "management       0.137570\n",
       "retired          0.227915\n",
       "self-employed    0.118429\n",
       "services         0.088851\n",
       "student          0.286780\n",
       "technician       0.110585\n",
       "unemployed       0.155027\n",
       "unknown          0.118056\n",
       "Name: target, dtype: float64"
      ]
     },
     "execution_count": 29,
     "metadata": {},
     "output_type": "execute_result"
    }
   ],
   "source": [
    "#checking for the percentage of how many people get insured? compared with Target vs Job\n",
    "df.groupby('job')['target'].mean()"
   ]
  },
  {
   "cell_type": "code",
   "execution_count": 30,
   "metadata": {
    "id": "o1sZOPLv6mmR"
   },
   "outputs": [],
   "source": [
    "# droping the column unknown \n",
    "#outof 45211 rows, deletion of 288 rows will not get more impact on dataset so planning to delete\n",
    "\n",
    "#replacing unknown value as null\n",
    "df['job'] =df['job'].replace('unknown',np.nan)"
   ]
  },
  {
   "cell_type": "code",
   "execution_count": 31,
   "metadata": {
    "colab": {
     "base_uri": "https://localhost:8080/"
    },
    "id": "ENVk2Jo18vEp",
    "outputId": "fe91d219-5578-4d19-aa78-dc3ac3fc7cfc"
   },
   "outputs": [
    {
     "data": {
      "text/plain": [
       "288"
      ]
     },
     "execution_count": 31,
     "metadata": {},
     "output_type": "execute_result"
    }
   ],
   "source": [
    "#counting the no of null value in jab column\n",
    "df.job.isnull().sum()"
   ]
  },
  {
   "cell_type": "code",
   "execution_count": 32,
   "metadata": {
    "id": "coS4nlGK84fK"
   },
   "outputs": [],
   "source": [
    "#removing null values from job column\n",
    "df=df.dropna(subset=['job'])"
   ]
  },
  {
   "cell_type": "code",
   "execution_count": 33,
   "metadata": {
    "colab": {
     "base_uri": "https://localhost:8080/"
    },
    "id": "ArcGkvIy93bH",
    "outputId": "513c6221-1335-404e-c90f-d545e44fc936"
   },
   "outputs": [
    {
     "data": {
      "text/plain": [
       "0"
      ]
     },
     "execution_count": 33,
     "metadata": {},
     "output_type": "execute_result"
    }
   ],
   "source": [
    "#after removing null values checking for the summ of null vaues\n",
    "df.job.isnull().sum()"
   ]
  },
  {
   "cell_type": "markdown",
   "metadata": {
    "id": "ho5-W1aj_EFv"
   },
   "source": [
    "**Marital Status**"
   ]
  },
  {
   "cell_type": "code",
   "execution_count": 34,
   "metadata": {
    "colab": {
     "base_uri": "https://localhost:8080/"
    },
    "id": "BbupAtfxOX_9",
    "outputId": "553e3eb6-b88f-4a8e-c219-b59ba338ef7f"
   },
   "outputs": [
    {
     "data": {
      "text/plain": [
       "marital\n",
       "married     27007\n",
       "single      12720\n",
       "divorced     5190\n",
       "Name: count, dtype: int64"
      ]
     },
     "execution_count": 34,
     "metadata": {},
     "output_type": "execute_result"
    }
   ],
   "source": [
    "#no of counts for marital status\n",
    "df.marital.value_counts()"
   ]
  },
  {
   "cell_type": "code",
   "execution_count": 35,
   "metadata": {
    "colab": {
     "base_uri": "https://localhost:8080/"
    },
    "id": "PWwT8u1jrgs1",
    "outputId": "c270301c-5035-4946-ed3b-242b61aaeba6"
   },
   "outputs": [
    {
     "data": {
      "text/plain": [
       "marital\n",
       "divorced    0.119653\n",
       "married     0.101233\n",
       "single      0.149371\n",
       "Name: target, dtype: float64"
      ]
     },
     "execution_count": 35,
     "metadata": {},
     "output_type": "execute_result"
    }
   ],
   "source": [
    "#checking for the percentage of how many people get insured? compared with Target vs Marital Status\n",
    "df.groupby('marital')['target'].mean()"
   ]
  },
  {
   "cell_type": "markdown",
   "metadata": {
    "id": "ZZZjxOLO_RO_"
   },
   "source": [
    "**Educational Qualification**"
   ]
  },
  {
   "cell_type": "code",
   "execution_count": 36,
   "metadata": {
    "colab": {
     "base_uri": "https://localhost:8080/"
    },
    "id": "n1Lssnq9OX89",
    "outputId": "9239e780-8217-457c-fad4-6c5fb7007b5a"
   },
   "outputs": [
    {
     "data": {
      "text/plain": [
       "education_qual\n",
       "secondary    23128\n",
       "tertiary     13260\n",
       "primary       6799\n",
       "unknown       1730\n",
       "Name: count, dtype: int64"
      ]
     },
     "execution_count": 36,
     "metadata": {},
     "output_type": "execute_result"
    }
   ],
   "source": [
    "#no of counts for Educational qualification\n",
    "df.education_qual.value_counts()"
   ]
  },
  {
   "cell_type": "code",
   "execution_count": 37,
   "metadata": {
    "colab": {
     "base_uri": "https://localhost:8080/"
    },
    "id": "K3OOu6MIsrXW",
    "outputId": "907068ae-0762-4651-d157-3de036f8ba11"
   },
   "outputs": [
    {
     "data": {
      "text/plain": [
       "education_qual\n",
       "primary      0.086483\n",
       "secondary    0.105543\n",
       "tertiary     0.150226\n",
       "unknown      0.135260\n",
       "Name: target, dtype: float64"
      ]
     },
     "execution_count": 37,
     "metadata": {},
     "output_type": "execute_result"
    }
   ],
   "source": [
    "#checking for the percentage of how many people get insured? compared with Target vs Educational Qualification\n",
    "df.groupby('education_qual')['target'].mean()"
   ]
  },
  {
   "cell_type": "code",
   "execution_count": 38,
   "metadata": {
    "colab": {
     "base_uri": "https://localhost:8080/"
    },
    "id": "R8o_CPG1CuTF",
    "outputId": "fa10f36b-9e0b-4fbf-c7ce-b33840c36662"
   },
   "outputs": [
    {
     "name": "stdout",
     "output_type": "stream",
     "text": [
      "Percentage for \"Unknown\":  3.8372815189424188\n"
     ]
    }
   ],
   "source": [
    "#Finding the percentage of unknown value\n",
    "print('Percentage for \"Unknown\": ',((1730) / (23202+13301+6851+1730)) * 100 )"
   ]
  },
  {
   "cell_type": "markdown",
   "metadata": {
    "id": "-Nzu5LN8DB_n"
   },
   "source": [
    "Unknown percentage is 3.8% so if we delete also it will note affect the dataset"
   ]
  },
  {
   "cell_type": "code",
   "execution_count": 39,
   "metadata": {
    "id": "KrMMBmOODRr-"
   },
   "outputs": [],
   "source": [
    "#replacing unknown value as null\n",
    "df['education_qual'] =df['education_qual'].replace('unknown',np.nan)"
   ]
  },
  {
   "cell_type": "code",
   "execution_count": 40,
   "metadata": {
    "colab": {
     "base_uri": "https://localhost:8080/"
    },
    "id": "qkwdHep9DRoK",
    "outputId": "e1ba08d2-3977-4281-ccd2-7a88c8180e84"
   },
   "outputs": [
    {
     "data": {
      "text/plain": [
       "1730"
      ]
     },
     "execution_count": 40,
     "metadata": {},
     "output_type": "execute_result"
    }
   ],
   "source": [
    "#checking for null values\n",
    "df.education_qual.isnull().sum()"
   ]
  },
  {
   "cell_type": "code",
   "execution_count": 41,
   "metadata": {
    "id": "ungzLRAEDRh9"
   },
   "outputs": [],
   "source": [
    "#droping the null values\n",
    "df = df. dropna(subset=['education_qual'])"
   ]
  },
  {
   "cell_type": "code",
   "execution_count": 42,
   "metadata": {
    "colab": {
     "base_uri": "https://localhost:8080/"
    },
    "id": "sygYJ54BEe-F",
    "outputId": "4524459e-d549-48e4-ac9a-9cdeebdf8d9e"
   },
   "outputs": [
    {
     "data": {
      "text/plain": [
       "0"
      ]
     },
     "execution_count": 42,
     "metadata": {},
     "output_type": "execute_result"
    }
   ],
   "source": [
    "#checking for null value after deleting\n",
    "df.education_qual.isnull().sum()"
   ]
  },
  {
   "cell_type": "markdown",
   "metadata": {
    "id": "9FmSI3tN_fL_"
   },
   "source": [
    "**Call Type**"
   ]
  },
  {
   "cell_type": "code",
   "execution_count": 43,
   "metadata": {
    "colab": {
     "base_uri": "https://localhost:8080/"
    },
    "id": "w0TOPjqeOX5e",
    "outputId": "08193cd2-b5e2-488e-dfc5-87b61dcf598d"
   },
   "outputs": [
    {
     "data": {
      "text/plain": [
       "call_type\n",
       "cellular     28210\n",
       "unknown      12283\n",
       "telephone     2694\n",
       "Name: count, dtype: int64"
      ]
     },
     "execution_count": 43,
     "metadata": {},
     "output_type": "execute_result"
    }
   ],
   "source": [
    "#no of counts for Call type\n",
    "df.call_type.value_counts()"
   ]
  },
  {
   "cell_type": "code",
   "execution_count": 44,
   "metadata": {
    "colab": {
     "base_uri": "https://localhost:8080/"
    },
    "id": "XLeud2nGteRX",
    "outputId": "ecd9a8c8-3bda-47bf-db01-1e0935ed77ae"
   },
   "outputs": [
    {
     "data": {
      "text/plain": [
       "call_type\n",
       "cellular     0.147572\n",
       "telephone    0.129918\n",
       "unknown      0.041358\n",
       "Name: target, dtype: float64"
      ]
     },
     "execution_count": 44,
     "metadata": {},
     "output_type": "execute_result"
    }
   ],
   "source": [
    "#checking for the percentage of how many people get insured? compared with Target vs Call Type\n",
    "df.groupby('call_type')['target'].mean()"
   ]
  },
  {
   "cell_type": "code",
   "execution_count": 45,
   "metadata": {
    "colab": {
     "base_uri": "https://localhost:8080/"
    },
    "id": "88ToMX-lHG8D",
    "outputId": "17fde20e-1af2-4f5b-aed6-0d8f32329f6c"
   },
   "outputs": [
    {
     "name": "stdout",
     "output_type": "stream",
     "text": [
      "Percentage for \"Unknown\":  22.501282333113505\n"
     ]
    }
   ],
   "source": [
    "#Finding the percentage of unknown value\n",
    "print('Percentage for \"Unknown\": ',((12283) / (29285+13020+12283)) * 100 )"
   ]
  },
  {
   "cell_type": "markdown",
   "metadata": {
    "id": "3rTj8dC3H7Qq"
   },
   "source": [
    "Unknown call type percentage is 22.50% so we will keep as it is."
   ]
  },
  {
   "cell_type": "markdown",
   "metadata": {
    "id": "VnUilUiG_oH-"
   },
   "source": [
    "**Day**"
   ]
  },
  {
   "cell_type": "code",
   "execution_count": 46,
   "metadata": {
    "colab": {
     "base_uri": "https://localhost:8080/"
    },
    "id": "xpM89tdFPieA",
    "outputId": "4a3f78d1-3829-41a1-d5fe-900201a40267"
   },
   "outputs": [
    {
     "data": {
      "text/plain": [
       "day\n",
       "20    2628\n",
       "18    2227\n",
       "21    1961\n",
       "17    1872\n",
       "6     1817\n",
       "5     1796\n",
       "14    1784\n",
       "8     1758\n",
       "7     1739\n",
       "28    1739\n",
       "29    1661\n",
       "19    1656\n",
       "15    1649\n",
       "12    1542\n",
       "13    1529\n",
       "9     1483\n",
       "30    1481\n",
       "11    1397\n",
       "4     1372\n",
       "16    1331\n",
       "2     1243\n",
       "27    1072\n",
       "3     1039\n",
       "26     994\n",
       "23     900\n",
       "22     875\n",
       "25     810\n",
       "31     597\n",
       "10     504\n",
       "24     426\n",
       "1      305\n",
       "Name: count, dtype: int64"
      ]
     },
     "execution_count": 46,
     "metadata": {},
     "output_type": "execute_result"
    }
   ],
   "source": [
    "#no of counts for Day\n",
    "df.day.value_counts()"
   ]
  },
  {
   "cell_type": "code",
   "execution_count": 47,
   "metadata": {
    "colab": {
     "base_uri": "https://localhost:8080/"
    },
    "id": "LPQnS4njt0hN",
    "outputId": "3e6fb259-8471-4f5b-c917-3dc82ddc0910"
   },
   "outputs": [
    {
     "data": {
      "text/plain": [
       "day\n",
       "1     0.278689\n",
       "2     0.139179\n",
       "3     0.166506\n",
       "4     0.160350\n",
       "5     0.114143\n",
       "6     0.094111\n",
       "7     0.086832\n",
       "8     0.105802\n",
       "9     0.113284\n",
       "10    0.224206\n",
       "11    0.121689\n",
       "12    0.153696\n",
       "13    0.152387\n",
       "14    0.109305\n",
       "15    0.141298\n",
       "16    0.133734\n",
       "17    0.090812\n",
       "18    0.100584\n",
       "19    0.069444\n",
       "20    0.070396\n",
       "21    0.098929\n",
       "22    0.162286\n",
       "23    0.131111\n",
       "24    0.143192\n",
       "25    0.155556\n",
       "26    0.105634\n",
       "27    0.125933\n",
       "28    0.075331\n",
       "29    0.074052\n",
       "30    0.173531\n",
       "31    0.073702\n",
       "Name: target, dtype: float64"
      ]
     },
     "execution_count": 47,
     "metadata": {},
     "output_type": "execute_result"
    }
   ],
   "source": [
    "#checking for the percentage of how many people get insured? compared with Target vs Day\n",
    "df.groupby('day')['target'].mean()"
   ]
  },
  {
   "cell_type": "markdown",
   "metadata": {
    "id": "Su1Gs6I0_r2o"
   },
   "source": [
    "**Month**"
   ]
  },
  {
   "cell_type": "code",
   "execution_count": 48,
   "metadata": {
    "colab": {
     "base_uri": "https://localhost:8080/"
    },
    "id": "REyDuhq0PiWi",
    "outputId": "6bea516b-9b53-43a7-f494-0c7892ab8b05"
   },
   "outputs": [
    {
     "data": {
      "text/plain": [
       "mon\n",
       "may    13191\n",
       "jul     6600\n",
       "aug     6035\n",
       "jun     4978\n",
       "nov     3842\n",
       "apr     2820\n",
       "feb     2533\n",
       "jan     1318\n",
       "oct      690\n",
       "sep      532\n",
       "mar      448\n",
       "dec      200\n",
       "Name: count, dtype: int64"
      ]
     },
     "execution_count": 48,
     "metadata": {},
     "output_type": "execute_result"
    }
   ],
   "source": [
    "#no of counts for month\n",
    "df.mon.value_counts()"
   ]
  },
  {
   "cell_type": "code",
   "execution_count": 49,
   "metadata": {
    "colab": {
     "base_uri": "https://localhost:8080/"
    },
    "id": "i2FV0ZOjuPH1",
    "outputId": "4ed8e704-e58b-4550-820d-65cd76a08a57"
   },
   "outputs": [
    {
     "data": {
      "text/plain": [
       "mon\n",
       "apr    0.192553\n",
       "aug    0.109196\n",
       "dec    0.465000\n",
       "feb    0.165022\n",
       "jan    0.100152\n",
       "jul    0.088788\n",
       "jun    0.105062\n",
       "mar    0.537946\n",
       "may    0.067319\n",
       "nov    0.101510\n",
       "oct    0.430435\n",
       "sep    0.471805\n",
       "Name: target, dtype: float64"
      ]
     },
     "execution_count": 49,
     "metadata": {},
     "output_type": "execute_result"
    }
   ],
   "source": [
    "#checking for the percentage of how many people get insured? compared with Target vs Month\n",
    "df.groupby('mon')['target'].mean()"
   ]
  },
  {
   "cell_type": "markdown",
   "metadata": {
    "id": "LlgRr27cAEk3"
   },
   "source": [
    "**Duration**"
   ]
  },
  {
   "cell_type": "code",
   "execution_count": 50,
   "metadata": {
    "colab": {
     "base_uri": "https://localhost:8080/"
    },
    "id": "YXFfwCdUPiQt",
    "outputId": "8e47b090-b4b1-4ef0-f6af-e497ebcc1c15"
   },
   "outputs": [
    {
     "data": {
      "text/plain": [
       "dur\n",
       "124     176\n",
       "90      172\n",
       "89      172\n",
       "114     172\n",
       "122     169\n",
       "       ... \n",
       "1327      1\n",
       "1331      1\n",
       "1608      1\n",
       "1833      1\n",
       "1556      1\n",
       "Name: count, Length: 1558, dtype: int64"
      ]
     },
     "execution_count": 50,
     "metadata": {},
     "output_type": "execute_result"
    }
   ],
   "source": [
    "#no of counts for duration\n",
    "df.dur.value_counts()"
   ]
  },
  {
   "cell_type": "code",
   "execution_count": 51,
   "metadata": {
    "colab": {
     "base_uri": "https://localhost:8080/"
    },
    "id": "e22wsb0humdu",
    "outputId": "3817e442-ce37-4e41-b83e-94ca29822c87"
   },
   "outputs": [
    {
     "data": {
      "text/plain": [
       "dur\n",
       "0       0.0\n",
       "1       0.0\n",
       "2       0.0\n",
       "3       0.0\n",
       "4       0.0\n",
       "       ... \n",
       "3366    0.0\n",
       "3422    0.0\n",
       "3785    0.0\n",
       "3881    1.0\n",
       "4918    0.0\n",
       "Name: target, Length: 1558, dtype: float64"
      ]
     },
     "execution_count": 51,
     "metadata": {},
     "output_type": "execute_result"
    }
   ],
   "source": [
    "#checking for the percentage of how many people get insured? compared with Target vs Duration\n",
    "df.groupby('dur')['target'].mean()"
   ]
  },
  {
   "cell_type": "markdown",
   "metadata": {
    "id": "9mN_1oWwAalQ"
   },
   "source": [
    "**Number of Calls**"
   ]
  },
  {
   "cell_type": "code",
   "execution_count": 52,
   "metadata": {
    "colab": {
     "base_uri": "https://localhost:8080/"
    },
    "id": "ZgKy3cRVQUVf",
    "outputId": "407553cf-edbf-4337-9fb0-76309af8753d"
   },
   "outputs": [
    {
     "data": {
      "text/plain": [
       "num_calls\n",
       "1     16740\n",
       "2     11936\n",
       "3      5277\n",
       "4      3397\n",
       "5      1703\n",
       "6      1234\n",
       "7       696\n",
       "8       516\n",
       "9       307\n",
       "10      255\n",
       "11      190\n",
       "12      149\n",
       "13      123\n",
       "14       85\n",
       "15       81\n",
       "16       75\n",
       "17       65\n",
       "18       47\n",
       "19       43\n",
       "20       42\n",
       "21       33\n",
       "25       22\n",
       "22       20\n",
       "24       20\n",
       "23       20\n",
       "28       16\n",
       "29       13\n",
       "26       12\n",
       "31       11\n",
       "32        9\n",
       "27        9\n",
       "30        8\n",
       "33        6\n",
       "34        4\n",
       "36        4\n",
       "38        3\n",
       "35        3\n",
       "43        2\n",
       "50        2\n",
       "41        2\n",
       "51        1\n",
       "37        1\n",
       "46        1\n",
       "55        1\n",
       "58        1\n",
       "39        1\n",
       "44        1\n",
       "Name: count, dtype: int64"
      ]
     },
     "execution_count": 52,
     "metadata": {},
     "output_type": "execute_result"
    }
   ],
   "source": [
    "#no of counts for number of calls\n",
    "df.num_calls.value_counts()"
   ]
  },
  {
   "cell_type": "code",
   "execution_count": 53,
   "metadata": {
    "colab": {
     "base_uri": "https://localhost:8080/"
    },
    "id": "acZ5yFECu04o",
    "outputId": "d692ab21-7101-499d-df67-32e9dd79cee2"
   },
   "outputs": [
    {
     "data": {
      "text/plain": [
       "num_calls\n",
       "1     0.145221\n",
       "2     0.110841\n",
       "3     0.111237\n",
       "4     0.088902\n",
       "5     0.079859\n",
       "6     0.072123\n",
       "7     0.064655\n",
       "8     0.058140\n",
       "9     0.065147\n",
       "10    0.050980\n",
       "11    0.078947\n",
       "12    0.026846\n",
       "13    0.048780\n",
       "14    0.047059\n",
       "15    0.049383\n",
       "16    0.026667\n",
       "17    0.076923\n",
       "18    0.000000\n",
       "19    0.000000\n",
       "20    0.023810\n",
       "21    0.030303\n",
       "22    0.000000\n",
       "23    0.000000\n",
       "24    0.050000\n",
       "25    0.000000\n",
       "26    0.000000\n",
       "27    0.000000\n",
       "28    0.000000\n",
       "29    0.076923\n",
       "30    0.000000\n",
       "31    0.000000\n",
       "32    0.111111\n",
       "33    0.000000\n",
       "34    0.000000\n",
       "35    0.000000\n",
       "36    0.000000\n",
       "37    0.000000\n",
       "38    0.000000\n",
       "39    0.000000\n",
       "41    0.000000\n",
       "43    0.000000\n",
       "44    0.000000\n",
       "46    0.000000\n",
       "50    0.000000\n",
       "51    0.000000\n",
       "55    0.000000\n",
       "58    0.000000\n",
       "Name: target, dtype: float64"
      ]
     },
     "execution_count": 53,
     "metadata": {},
     "output_type": "execute_result"
    }
   ],
   "source": [
    "#checking for the percentage of how many people get insured? compared with Target vs Numer of Calls\n",
    "df.groupby('num_calls')['target'].mean()"
   ]
  },
  {
   "cell_type": "markdown",
   "metadata": {
    "id": "ecw01zbvFF67"
   },
   "source": [
    "**Previous Outcome**"
   ]
  },
  {
   "cell_type": "code",
   "execution_count": 54,
   "metadata": {
    "colab": {
     "base_uri": "https://localhost:8080/"
    },
    "id": "Xfy2bCAKQqn9",
    "outputId": "345466a7-267b-4380-e6d7-e30fbea692e9"
   },
   "outputs": [
    {
     "data": {
      "text/plain": [
       "prev_outcome\n",
       "unknown    35280\n",
       "failure     4709\n",
       "other       1774\n",
       "success     1424\n",
       "Name: count, dtype: int64"
      ]
     },
     "execution_count": 54,
     "metadata": {},
     "output_type": "execute_result"
    }
   ],
   "source": [
    "#no of counts for previous outcome\n",
    "df.prev_outcome.value_counts()"
   ]
  },
  {
   "cell_type": "code",
   "execution_count": 55,
   "metadata": {
    "colab": {
     "base_uri": "https://localhost:8080/"
    },
    "id": "ZdMgDSt2vDsw",
    "outputId": "7c679cd4-39f4-4c42-eea6-d1e0b72de3c3"
   },
   "outputs": [
    {
     "data": {
      "text/plain": [
       "prev_outcome\n",
       "failure    0.124655\n",
       "other      0.165163\n",
       "success    0.643961\n",
       "unknown    0.091383\n",
       "Name: target, dtype: float64"
      ]
     },
     "execution_count": 55,
     "metadata": {},
     "output_type": "execute_result"
    }
   ],
   "source": [
    "#checking for the percentage of how many people get insured? compared with Target vs Previous outcome\n",
    "df.groupby('prev_outcome')['target'].mean()"
   ]
  },
  {
   "cell_type": "code",
   "execution_count": 56,
   "metadata": {
    "colab": {
     "base_uri": "https://localhost:8080/"
    },
    "id": "ANegEf_hFMJI",
    "outputId": "a77e2e00-1c00-4c7e-da27-f9be13448063"
   },
   "outputs": [
    {
     "name": "stdout",
     "output_type": "stream",
     "text": [
      "Percentage for \"Unknown\":  81.69124968161715\n"
     ]
    }
   ],
   "source": [
    "#Finding the percentage of unknown value\n",
    "print('Percentage for \"Unknown\": ',((35280) / (35280+4709+1774+1424)) * 100 )"
   ]
  },
  {
   "cell_type": "markdown",
   "metadata": {
    "id": "iUERB5x6FbJ8"
   },
   "source": [
    "It is around 81% values are unknown. So will keep unknown value as it is."
   ]
  },
  {
   "cell_type": "markdown",
   "metadata": {
    "id": "6r9l_QZbGxJT"
   },
   "source": [
    "**Target Variable Y**"
   ]
  },
  {
   "cell_type": "code",
   "execution_count": 57,
   "metadata": {
    "colab": {
     "base_uri": "https://localhost:8080/"
    },
    "id": "J5GJdxE7RWyO",
    "outputId": "53149f09-e65c-40db-fc47-c0e1ada9a96d"
   },
   "outputs": [
    {
     "data": {
      "text/plain": [
       "y\n",
       "no     38166\n",
       "yes     5021\n",
       "Name: count, dtype: int64"
      ]
     },
     "execution_count": 57,
     "metadata": {},
     "output_type": "execute_result"
    }
   ],
   "source": [
    "#no of counts of target variable y\n",
    "df.y.value_counts()"
   ]
  },
  {
   "cell_type": "code",
   "execution_count": 58,
   "metadata": {
    "colab": {
     "base_uri": "https://localhost:8080/"
    },
    "id": "64vMTm6sWT6u",
    "outputId": "10f43e60-4978-45a6-ec38-0a4e3c13314f"
   },
   "outputs": [
    {
     "name": "stdout",
     "output_type": "stream",
     "text": [
      "<class 'pandas.core.frame.DataFrame'>\n",
      "Index: 43187 entries, 0 to 45210\n",
      "Data columns (total 12 columns):\n",
      " #   Column          Non-Null Count  Dtype \n",
      "---  ------          --------------  ----- \n",
      " 0   age             43187 non-null  int64 \n",
      " 1   job             43187 non-null  object\n",
      " 2   marital         43187 non-null  object\n",
      " 3   education_qual  43187 non-null  object\n",
      " 4   call_type       43187 non-null  object\n",
      " 5   day             43187 non-null  int64 \n",
      " 6   mon             43187 non-null  object\n",
      " 7   dur             43187 non-null  int64 \n",
      " 8   num_calls       43187 non-null  int64 \n",
      " 9   prev_outcome    43187 non-null  object\n",
      " 10  y               43187 non-null  object\n",
      " 11  target          43187 non-null  int64 \n",
      "dtypes: int64(5), object(7)\n",
      "memory usage: 4.3+ MB\n"
     ]
    }
   ],
   "source": [
    "df.info()"
   ]
  },
  {
   "cell_type": "markdown",
   "metadata": {
    "id": "9r8gx8ui-P7u"
   },
   "source": [
    "### **Outlier Deduction and Correction**\n",
    "**Outlier Detection**\n",
    "1.   Z-Score\n",
    "      Z-Score(x)=(x-mean(x)) / SD(x)\n",
    "      **Threshold Limit**\n",
    "      Z-Score > 3 and Z-Score < -3 ---> Outlier\n",
    "2.   IQR\n",
    "      IQR = Q3(75%)-Q1(25%)\n",
    "      **Upper Threshold** = Q3 + (1.5 * IQR)\n",
    "      **Lower Threshold** = Q1 - (1.5 * IQR)\n",
    "3.   Plotting\n",
    "      Box Plot\n",
    "\n",
    "**Outlier Correction**\n",
    "1.   Deletion\n",
    "2.   Clip/Strip\n",
    "\n"
   ]
  },
  {
   "cell_type": "code",
   "execution_count": 59,
   "metadata": {
    "colab": {
     "base_uri": "https://localhost:8080/"
    },
    "id": "0V1VuGcCk2ia",
    "outputId": "8c6374e8-ee21-438e-825e-04bde6343f66"
   },
   "outputs": [
    {
     "name": "stdout",
     "output_type": "stream",
     "text": [
      "<class 'pandas.core.frame.DataFrame'>\n",
      "Index: 43187 entries, 0 to 45210\n",
      "Data columns (total 12 columns):\n",
      " #   Column          Non-Null Count  Dtype \n",
      "---  ------          --------------  ----- \n",
      " 0   age             43187 non-null  int64 \n",
      " 1   job             43187 non-null  object\n",
      " 2   marital         43187 non-null  object\n",
      " 3   education_qual  43187 non-null  object\n",
      " 4   call_type       43187 non-null  object\n",
      " 5   day             43187 non-null  int64 \n",
      " 6   mon             43187 non-null  object\n",
      " 7   dur             43187 non-null  int64 \n",
      " 8   num_calls       43187 non-null  int64 \n",
      " 9   prev_outcome    43187 non-null  object\n",
      " 10  y               43187 non-null  object\n",
      " 11  target          43187 non-null  int64 \n",
      "dtypes: int64(5), object(7)\n",
      "memory usage: 4.3+ MB\n"
     ]
    }
   ],
   "source": [
    "df.info()"
   ]
  },
  {
   "cell_type": "markdown",
   "metadata": {
    "id": "cFrmsqmg1xOo"
   },
   "source": [
    "## **Age**\n",
    "\n",
    "**Box Plot**"
   ]
  },
  {
   "cell_type": "code",
   "execution_count": 60,
   "metadata": {
    "colab": {
     "base_uri": "https://localhost:8080/",
     "height": 303
    },
    "id": "ZuJoOVAHk2YC",
    "outputId": "e997a09f-71fc-4a40-a043-09643c3bfb1b"
   },
   "outputs": [
    {
     "data": {
      "text/plain": [
       "<Axes: xlabel='age'>"
      ]
     },
     "execution_count": 60,
     "metadata": {},
     "output_type": "execute_result"
    },
    {
     "data": {
      "image/png": "[encoded data removed]",
      "text/plain": [
       "<Figure size 640x480 with 1 Axes>"
      ]
     },
     "metadata": {},
     "output_type": "display_data"
    }
   ],
   "source": [
    "#Outlier Detuction using Box Plot for Age Column\n",
    "sns.set(style=\"whitegrid\")\n",
    "sns.boxplot(x=df['age'], color='Chartreuse')"
   ]
  },
  {
   "cell_type": "markdown",
   "metadata": {
    "id": "RcqlMDx6lhTF"
   },
   "source": [
    "From outlier we can see that there are many dots are displayed outside whisker."
   ]
  },
  {
   "cell_type": "markdown",
   "metadata": {
    "id": "8pA8rqUsnWSz"
   },
   "source": [
    "**IQR**"
   ]
  },
  {
   "cell_type": "code",
   "execution_count": 61,
   "metadata": {
    "colab": {
     "base_uri": "https://localhost:8080/"
    },
    "id": "Nj3HOmKPnDye",
    "outputId": "1cea748b-93b2-4916-882a-0fb636d896a1"
   },
   "outputs": [
    {
     "name": "stdout",
     "output_type": "stream",
     "text": [
      "Upper age bound: 70.5 Lower age bound : 10.5\n"
     ]
    }
   ],
   "source": [
    "#detecting Outlier for Age column\n",
    "q1,q3=np.percentile(df[\"age\"],[25,75])\n",
    "IQR=q3-q1\n",
    "upper=q3+1.5*IQR\n",
    "lower=q1-1.5*IQR\n",
    "print(\"Upper age bound:\",upper,\"Lower age bound :\", lower)"
   ]
  },
  {
   "cell_type": "markdown",
   "metadata": {
    "id": "rFxAwBRynbfa"
   },
   "source": [
    "**Removing outlier for Age**"
   ]
  },
  {
   "cell_type": "code",
   "execution_count": 62,
   "metadata": {
    "id": "2N32DDRxna3T"
   },
   "outputs": [],
   "source": [
    "#removing outlier for age column\n",
    "# Clip/ Strip is used to detuct value to lower & upper threshold.\n",
    "df.age = df.age.clip(10.5,70.5)"
   ]
  },
  {
   "cell_type": "code",
   "execution_count": 63,
   "metadata": {
    "colab": {
     "base_uri": "https://localhost:8080/"
    },
    "id": "H-6RGeFtre2R",
    "outputId": "a5a02d03-83d9-43ae-b625-115213b1c8db"
   },
   "outputs": [
    {
     "data": {
      "text/plain": [
       "count    43187.000000\n",
       "mean        40.702549\n",
       "std         10.305239\n",
       "min         18.000000\n",
       "25%         33.000000\n",
       "50%         39.000000\n",
       "75%         48.000000\n",
       "max         70.500000\n",
       "Name: age, dtype: float64"
      ]
     },
     "execution_count": 63,
     "metadata": {},
     "output_type": "execute_result"
    }
   ],
   "source": [
    "df.age.describe()"
   ]
  },
  {
   "cell_type": "markdown",
   "metadata": {
    "id": "8lhhJPT8n5nL"
   },
   "source": [
    "**Checking- After outlier removal**"
   ]
  },
  {
   "cell_type": "code",
   "execution_count": 64,
   "metadata": {
    "colab": {
     "base_uri": "https://localhost:8080/",
     "height": 303
    },
    "id": "fV8L1fu-n1vl",
    "outputId": "d159c7c0-219b-4d41-af74-51191d04e83d"
   },
   "outputs": [
    {
     "data": {
      "text/plain": [
       "<Axes: xlabel='age'>"
      ]
     },
     "execution_count": 64,
     "metadata": {},
     "output_type": "execute_result"
    },
    {
     "data": {
      "image/png": "[encoded data removed]",
      "text/plain": [
       "<Figure size 640x480 with 1 Axes>"
      ]
     },
     "metadata": {},
     "output_type": "display_data"
    }
   ],
   "source": [
    "sns.set(style=\"whitegrid\")\n",
    "sns.boxplot(x=df['age'], color='Chartreuse')"
   ]
  },
  {
   "cell_type": "markdown",
   "metadata": {
    "id": "qS1qCBE2oN0q"
   },
   "source": [
    "## **Day**"
   ]
  },
  {
   "cell_type": "markdown",
   "metadata": {
    "id": "1Dgdwxu6oa1Q"
   },
   "source": [
    "**Box Plot**"
   ]
  },
  {
   "cell_type": "code",
   "execution_count": 65,
   "metadata": {
    "colab": {
     "base_uri": "https://localhost:8080/",
     "height": 303
    },
    "id": "yLu436vGoo6y",
    "outputId": "9fba498f-bd68-45e2-a3a8-9a67a52a1b76"
   },
   "outputs": [
    {
     "data": {
      "text/plain": [
       "<Axes: xlabel='day'>"
      ]
     },
     "execution_count": 65,
     "metadata": {},
     "output_type": "execute_result"
    },
    {
     "data": {
      "image/png": "[encoded data removed]",
      "text/plain": [
       "<Figure size 640x480 with 1 Axes>"
      ]
     },
     "metadata": {},
     "output_type": "display_data"
    }
   ],
   "source": [
    "#Outlier Detuction using Box Plot for day Column\n",
    "sns.set(style=\"whitegrid\")\n",
    "sns.boxplot(x=df['day'], color='Chartreuse')"
   ]
  },
  {
   "cell_type": "markdown",
   "metadata": {
    "id": "YGhW9STdoau6"
   },
   "source": [
    "**IQR**"
   ]
  },
  {
   "cell_type": "code",
   "execution_count": 66,
   "metadata": {
    "colab": {
     "base_uri": "https://localhost:8080/"
    },
    "id": "3Z3wwiM7pUzQ",
    "outputId": "da6a91a6-069c-4f61-8088-57aca3826a15"
   },
   "outputs": [
    {
     "name": "stdout",
     "output_type": "stream",
     "text": [
      "Upper bound: 40.5 Lower bound : -11.5\n"
     ]
    }
   ],
   "source": [
    "#detecting Outlier for Age column\n",
    "q1,q3=np.percentile(df[\"day\"],[25,75])\n",
    "IQR=q3-q1\n",
    "upper=q3+1.5*IQR\n",
    "lower=q1-1.5*IQR\n",
    "print(\"Upper bound:\",upper,\"Lower bound :\", lower)"
   ]
  },
  {
   "cell_type": "code",
   "execution_count": 67,
   "metadata": {
    "colab": {
     "base_uri": "https://localhost:8080/"
    },
    "id": "4IjNslW9pd1D",
    "outputId": "694eaf13-6760-4be6-be8d-1d2742d6d424"
   },
   "outputs": [
    {
     "data": {
      "text/plain": [
       "count    43187.000000\n",
       "mean        15.809896\n",
       "std          8.305826\n",
       "min          1.000000\n",
       "25%          8.000000\n",
       "50%         16.000000\n",
       "75%         21.000000\n",
       "max         31.000000\n",
       "Name: day, dtype: float64"
      ]
     },
     "execution_count": 67,
     "metadata": {},
     "output_type": "execute_result"
    }
   ],
   "source": [
    "df.day.describe()"
   ]
  },
  {
   "cell_type": "markdown",
   "metadata": {
    "id": "aIHeuWDioanB"
   },
   "source": [
    "From Box plot itself we can tell there is no outlier, even though checked with IQR approach. min and max values are in between lower and upper bound."
   ]
  },
  {
   "cell_type": "markdown",
   "metadata": {
    "id": "w7MvMXWNoacq"
   },
   "source": [
    "## **Duration**\n",
    "\n",
    "**Box Plot**"
   ]
  },
  {
   "cell_type": "code",
   "execution_count": 68,
   "metadata": {
    "colab": {
     "base_uri": "https://localhost:8080/",
     "height": 303
    },
    "id": "9UvK8iOzoW5d",
    "outputId": "c1b0b5d9-424c-4411-e8af-0dfe4ebe9ffd"
   },
   "outputs": [
    {
     "data": {
      "text/plain": [
       "<Axes: >"
      ]
     },
     "execution_count": 68,
     "metadata": {},
     "output_type": "execute_result"
    },
    {
     "data": {
      "image/png": "[encoded data removed]",
      "text/plain": [
       "<Figure size 640x480 with 1 Axes>"
      ]
     },
     "metadata": {},
     "output_type": "display_data"
    }
   ],
   "source": [
    "#Outlier Detuction using Box Plot for duration Column\n",
    "sns.set(style=\"whitegrid\")\n",
    "sns.boxplot(df['dur'], color='Chartreuse')"
   ]
  },
  {
   "cell_type": "markdown",
   "metadata": {
    "id": "gA8ubmp5qwmg"
   },
   "source": [
    "**IQR**"
   ]
  },
  {
   "cell_type": "code",
   "execution_count": 69,
   "metadata": {
    "colab": {
     "base_uri": "https://localhost:8080/"
    },
    "id": "hTrKyOQ1qykY",
    "outputId": "0b00e00e-3e1f-4b77-9922-19385bd951b7"
   },
   "outputs": [
    {
     "name": "stdout",
     "output_type": "stream",
     "text": [
      "Upper bound: 640.5 Lower bound : -219.5\n"
     ]
    }
   ],
   "source": [
    "#detecting Outlier for Duration column\n",
    "q1,q3=np.percentile(df[\"dur\"],[25,75])\n",
    "IQR=q3-q1\n",
    "upper=q3+1.5*IQR\n",
    "lower=q1-1.5*IQR\n",
    "print(\"Upper bound:\",upper,\"Lower bound :\", lower)"
   ]
  },
  {
   "cell_type": "markdown",
   "metadata": {
    "id": "KDekR6XFq7bP"
   },
   "source": [
    "**Removing Outlier for duration column**"
   ]
  },
  {
   "cell_type": "code",
   "execution_count": 70,
   "metadata": {
    "id": "EMM23liGq6r5"
   },
   "outputs": [],
   "source": [
    "#removing outlier for duration column\n",
    "# Clip/ Strip is used to detuct value to lower & upper threshold.\n",
    "df.dur = df.dur.clip(-219.5,640.5)"
   ]
  },
  {
   "cell_type": "code",
   "execution_count": 71,
   "metadata": {
    "colab": {
     "base_uri": "https://localhost:8080/"
    },
    "id": "_oFkspfQrwkf",
    "outputId": "d1e9f5a0-d027-440a-9b01-ce64abdba51b"
   },
   "outputs": [
    {
     "data": {
      "text/plain": [
       "count    43187.000000\n",
       "mean       234.788038\n",
       "std        176.240001\n",
       "min          0.000000\n",
       "25%        103.000000\n",
       "50%        180.000000\n",
       "75%        318.000000\n",
       "max        640.500000\n",
       "Name: dur, dtype: float64"
      ]
     },
     "execution_count": 71,
     "metadata": {},
     "output_type": "execute_result"
    }
   ],
   "source": [
    "df.dur.describe()"
   ]
  },
  {
   "cell_type": "markdown",
   "metadata": {
    "id": "DnZR-eH1rzn0"
   },
   "source": [
    "**Checking after outlier removal**"
   ]
  },
  {
   "cell_type": "code",
   "execution_count": 72,
   "metadata": {
    "colab": {
     "base_uri": "https://localhost:8080/",
     "height": 303
    },
    "id": "OAEqCpvXrIPZ",
    "outputId": "92c981e8-0c0b-485f-acb9-cc2a09a63b25"
   },
   "outputs": [
    {
     "data": {
      "text/plain": [
       "<Axes: >"
      ]
     },
     "execution_count": 72,
     "metadata": {},
     "output_type": "execute_result"
    },
    {
     "data": {
      "image/png": "[encoded data removed]",
      "text/plain": [
       "<Figure size 640x480 with 1 Axes>"
      ]
     },
     "metadata": {},
     "output_type": "display_data"
    }
   ],
   "source": [
    "sns.set(style=\"whitegrid\")\n",
    "sns.boxplot(df['dur'], color='Chartreuse')"
   ]
  },
  {
   "cell_type": "markdown",
   "metadata": {
    "id": "8NtDKMOdsEIU"
   },
   "source": [
    "## **No of Calls**\n",
    "\n",
    "**Box Plot**"
   ]
  },
  {
   "cell_type": "code",
   "execution_count": 73,
   "metadata": {
    "colab": {
     "base_uri": "https://localhost:8080/",
     "height": 303
    },
    "id": "80EP7hUFsKFX",
    "outputId": "e401810d-9c8f-42d1-9d1d-610bb84dc8c7"
   },
   "outputs": [
    {
     "data": {
      "text/plain": [
       "<Axes: >"
      ]
     },
     "execution_count": 73,
     "metadata": {},
     "output_type": "execute_result"
    },
    {
     "data": {
      "image/png": "[encoded data removed]",
      "text/plain": [
       "<Figure size 640x480 with 1 Axes>"
      ]
     },
     "metadata": {},
     "output_type": "display_data"
    }
   ],
   "source": [
    "#checking for outlier using boxplot fot the column no of calls\n",
    "sns.set(style=\"whitegrid\")\n",
    "sns.boxplot(df['num_calls'], color='Chartreuse')"
   ]
  },
  {
   "cell_type": "markdown",
   "metadata": {
    "id": "rzi2OtVys60w"
   },
   "source": [
    "**IQR**"
   ]
  },
  {
   "cell_type": "code",
   "execution_count": 74,
   "metadata": {
    "colab": {
     "base_uri": "https://localhost:8080/"
    },
    "id": "7U97eH1UsvGw",
    "outputId": "918586bc-8f58-4f99-d11d-50ee5db2e2bd"
   },
   "outputs": [
    {
     "name": "stdout",
     "output_type": "stream",
     "text": [
      "Upper bound: 6.0 Lower bound : -2.0\n"
     ]
    }
   ],
   "source": [
    "#detecting Outlier for number of calls column\n",
    "q1,q3=np.percentile(df[\"num_calls\"],[25,75])\n",
    "IQR=q3-q1\n",
    "upper=q3+1.5*IQR\n",
    "lower=q1-1.5*IQR\n",
    "print(\"Upper bound:\",upper,\"Lower bound :\", lower)"
   ]
  },
  {
   "cell_type": "code",
   "execution_count": 75,
   "metadata": {
    "id": "6yrqNG8utGx-"
   },
   "outputs": [],
   "source": [
    "#removing outlier for num_calls column\n",
    "# Clip/ Strip is used to detuct value to lower & upper threshold.\n",
    "df.num_calls = df.num_calls.clip(-2,6.0)"
   ]
  },
  {
   "cell_type": "code",
   "execution_count": 76,
   "metadata": {
    "colab": {
     "base_uri": "https://localhost:8080/"
    },
    "id": "NkuslgkItQI_",
    "outputId": "4a1c1b4f-473a-47ea-cc2e-c1cdbbfda838"
   },
   "outputs": [
    {
     "data": {
      "text/plain": [
       "count    43187.000000\n",
       "mean         2.393081\n",
       "std          1.598892\n",
       "min          1.000000\n",
       "25%          1.000000\n",
       "50%          2.000000\n",
       "75%          3.000000\n",
       "max          6.000000\n",
       "Name: num_calls, dtype: float64"
      ]
     },
     "execution_count": 76,
     "metadata": {},
     "output_type": "execute_result"
    }
   ],
   "source": [
    "df.num_calls.describe()"
   ]
  },
  {
   "cell_type": "markdown",
   "metadata": {
    "id": "5dxFS1c8tdjn"
   },
   "source": [
    "**Checking after outlier removal**"
   ]
  },
  {
   "cell_type": "code",
   "execution_count": 77,
   "metadata": {
    "colab": {
     "base_uri": "https://localhost:8080/",
     "height": 303
    },
    "id": "2WA2W3Prtczm",
    "outputId": "352bc586-1a11-4877-c047-7229f42a6bd2"
   },
   "outputs": [
    {
     "data": {
      "text/plain": [
       "<Axes: >"
      ]
     },
     "execution_count": 77,
     "metadata": {},
     "output_type": "execute_result"
    },
    {
     "data": {
      "image/png": "[encoded data removed]",
      "text/plain": [
       "<Figure size 640x480 with 1 Axes>"
      ]
     },
     "metadata": {},
     "output_type": "display_data"
    }
   ],
   "source": [
    "sns.set(style=\"whitegrid\")\n",
    "sns.boxplot(df['num_calls'], color='Chartreuse')"
   ]
  },
  {
   "cell_type": "markdown",
   "metadata": {
    "id": "9g9S97Tmttor"
   },
   "source": [
    "we detucted and removed outlier for all numerical columns. So we are done with Data Cleaning Process."
   ]
  },
  {
   "cell_type": "markdown",
   "metadata": {
    "id": "bAboNDwNmLPy"
   },
   "source": [
    "# **EDA - Exploratory Data Analysis**\n",
    "\n",
    "EDA is an important step in the data analysis process, as it helps to identify potential issues with the data and to develop a deeper understanding of the relationships between variables."
   ]
  },
  {
   "cell_type": "markdown",
   "metadata": {
    "id": "If0llQvX1DfV"
   },
   "source": [
    "### **Distribution of Feature and Target variable**"
   ]
  },
  {
   "cell_type": "code",
   "execution_count": 78,
   "metadata": {
    "colab": {
     "base_uri": "https://localhost:8080/",
     "height": 1000
    },
    "id": "8SxrquSJ5cvk",
    "outputId": "15c95991-b931-4efc-d251-6b79155e032b"
   },
   "outputs": [
    {
     "ename": "ValueError",
     "evalue": "Input data must be a pandas object to reorder",
     "output_type": "error",
     "traceback": [
      "\u001b[1;31m---------------------------------------------------------------------------\u001b[0m",
      "\u001b[1;31mValueError\u001b[0m                                Traceback (most recent call last)",
      "Cell \u001b[1;32mIn[78], line 27\u001b[0m\n\u001b[0;32m     25\u001b[0m \u001b[38;5;66;03m#Job distribution \u001b[39;00m\n\u001b[0;32m     26\u001b[0m plt\u001b[38;5;241m.\u001b[39msubplot(\u001b[38;5;241m3\u001b[39m,\u001b[38;5;241m4\u001b[39m,\u001b[38;5;241m2\u001b[39m) \n\u001b[1;32m---> 27\u001b[0m sns\u001b[38;5;241m.\u001b[39mcountplot(df[\u001b[38;5;124m'\u001b[39m\u001b[38;5;124mjob\u001b[39m\u001b[38;5;124m'\u001b[39m],order\u001b[38;5;241m=\u001b[39mdf\u001b[38;5;241m.\u001b[39mjob\u001b[38;5;241m.\u001b[39mvalue_counts()\u001b[38;5;241m.\u001b[39mindex) \n\u001b[0;32m     29\u001b[0m \u001b[38;5;66;03m# Get the current Axes object\u001b[39;00m\n\u001b[0;32m     30\u001b[0m ax \u001b[38;5;241m=\u001b[39m plt\u001b[38;5;241m.\u001b[39mgca()\n",
      "File \u001b[1;32m~\\anaconda3\\Lib\\site-packages\\seaborn\\categorical.py:2943\u001b[0m, in \u001b[0;36mcountplot\u001b[1;34m(data, x, y, hue, order, hue_order, orient, color, palette, saturation, width, dodge, ax, **kwargs)\u001b[0m\n\u001b[0;32m   2940\u001b[0m \u001b[38;5;28;01melif\u001b[39;00m x \u001b[38;5;129;01mis\u001b[39;00m \u001b[38;5;129;01mnot\u001b[39;00m \u001b[38;5;28;01mNone\u001b[39;00m \u001b[38;5;129;01mand\u001b[39;00m y \u001b[38;5;129;01mis\u001b[39;00m \u001b[38;5;129;01mnot\u001b[39;00m \u001b[38;5;28;01mNone\u001b[39;00m:\n\u001b[0;32m   2941\u001b[0m     \u001b[38;5;28;01mraise\u001b[39;00m \u001b[38;5;167;01mValueError\u001b[39;00m(\u001b[38;5;124m\"\u001b[39m\u001b[38;5;124mCannot pass values for both `x` and `y`\u001b[39m\u001b[38;5;124m\"\u001b[39m)\n\u001b[1;32m-> 2943\u001b[0m plotter \u001b[38;5;241m=\u001b[39m _CountPlotter(\n\u001b[0;32m   2944\u001b[0m     x, y, hue, data, order, hue_order,\n\u001b[0;32m   2945\u001b[0m     estimator, errorbar, n_boot, units, seed,\n\u001b[0;32m   2946\u001b[0m     orient, color, palette, saturation,\n\u001b[0;32m   2947\u001b[0m     width, errcolor, errwidth, capsize, dodge\n\u001b[0;32m   2948\u001b[0m )\n\u001b[0;32m   2950\u001b[0m plotter\u001b[38;5;241m.\u001b[39mvalue_label \u001b[38;5;241m=\u001b[39m \u001b[38;5;124m\"\u001b[39m\u001b[38;5;124mcount\u001b[39m\u001b[38;5;124m\"\u001b[39m\n\u001b[0;32m   2952\u001b[0m \u001b[38;5;28;01mif\u001b[39;00m ax \u001b[38;5;129;01mis\u001b[39;00m \u001b[38;5;28;01mNone\u001b[39;00m:\n",
      "File \u001b[1;32m~\\anaconda3\\Lib\\site-packages\\seaborn\\categorical.py:1530\u001b[0m, in \u001b[0;36m_BarPlotter.__init__\u001b[1;34m(self, x, y, hue, data, order, hue_order, estimator, errorbar, n_boot, units, seed, orient, color, palette, saturation, width, errcolor, errwidth, capsize, dodge)\u001b[0m\n\u001b[0;32m   1525\u001b[0m \u001b[38;5;28;01mdef\u001b[39;00m \u001b[38;5;21m__init__\u001b[39m(\u001b[38;5;28mself\u001b[39m, x, y, hue, data, order, hue_order,\n\u001b[0;32m   1526\u001b[0m              estimator, errorbar, n_boot, units, seed,\n\u001b[0;32m   1527\u001b[0m              orient, color, palette, saturation, width,\n\u001b[0;32m   1528\u001b[0m              errcolor, errwidth, capsize, dodge):\n\u001b[0;32m   1529\u001b[0m \u001b[38;5;250m    \u001b[39m\u001b[38;5;124;03m\"\"\"Initialize the plotter.\"\"\"\u001b[39;00m\n\u001b[1;32m-> 1530\u001b[0m     \u001b[38;5;28mself\u001b[39m\u001b[38;5;241m.\u001b[39mestablish_variables(x, y, hue, data, orient,\n\u001b[0;32m   1531\u001b[0m                              order, hue_order, units)\n\u001b[0;32m   1532\u001b[0m     \u001b[38;5;28mself\u001b[39m\u001b[38;5;241m.\u001b[39mestablish_colors(color, palette, saturation)\n\u001b[0;32m   1533\u001b[0m     \u001b[38;5;28mself\u001b[39m\u001b[38;5;241m.\u001b[39mestimate_statistic(estimator, errorbar, n_boot, seed)\n",
      "File \u001b[1;32m~\\anaconda3\\Lib\\site-packages\\seaborn\\categorical.py:481\u001b[0m, in \u001b[0;36m_CategoricalPlotter.establish_variables\u001b[1;34m(self, x, y, hue, data, orient, order, hue_order, units)\u001b[0m\n\u001b[0;32m    479\u001b[0m \u001b[38;5;28;01mif\u001b[39;00m order \u001b[38;5;129;01mis\u001b[39;00m \u001b[38;5;129;01mnot\u001b[39;00m \u001b[38;5;28;01mNone\u001b[39;00m:\n\u001b[0;32m    480\u001b[0m     error \u001b[38;5;241m=\u001b[39m \u001b[38;5;124m\"\u001b[39m\u001b[38;5;124mInput data must be a pandas object to reorder\u001b[39m\u001b[38;5;124m\"\u001b[39m\n\u001b[1;32m--> 481\u001b[0m     \u001b[38;5;28;01mraise\u001b[39;00m \u001b[38;5;167;01mValueError\u001b[39;00m(error)\n\u001b[0;32m    483\u001b[0m \u001b[38;5;66;03m# The input data is an array\u001b[39;00m\n\u001b[0;32m    484\u001b[0m \u001b[38;5;28;01mif\u001b[39;00m \u001b[38;5;28mhasattr\u001b[39m(data, \u001b[38;5;124m\"\u001b[39m\u001b[38;5;124mshape\u001b[39m\u001b[38;5;124m\"\u001b[39m):\n",
      "\u001b[1;31mValueError\u001b[0m: Input data must be a pandas object to reorder"
     ]
    },
    {
     "data": {
      "image/png": "[encoded data removed]",
      "text/plain": [
       "<Figure size 3600x3600 with 2 Axes>"
      ]
     },
     "metadata": {},
     "output_type": "display_data"
    }
   ],
   "source": [
    "# Age distribution \n",
    "plt.figure(figsize = (20,20),dpi=180)  \n",
    "plt.subplot(3,4,1) \n",
    "sns.histplot((df.age),color='BlueViolet')\n",
    "\n",
    "# Get the current Axes object\n",
    "ax = plt.gca()\n",
    "\n",
    "# Calculate and annotate the percentage of each category\n",
    "total = float(len(df['age']))\n",
    "for p in ax.patches:\n",
    "    height = p.get_height()\n",
    "    percentage = '{:.1f}%'.format(100 * height/total)\n",
    "    x = p.get_x() + p.get_width() / 2 - 0.1\n",
    "    y = height + 5\n",
    "    ax.text(x, y, percentage, fontsize=8, rotation=90, ha='center', va='bottom', color='Purple')\n",
    "\n",
    "plt.title('Age Distribution', fontsize = 12, color='maroon', fontweight='bold') \n",
    "plt.xlabel('Age',fontsize = 12, color='green') \n",
    "plt.ylabel('Count',fontsize = 12, color='green')  \n",
    "\n",
    "\n",
    "\n",
    "\n",
    "#Job distribution \n",
    "plt.subplot(3,4,2) \n",
    "sns.countplot(df['job'],order=df.job.value_counts().index) \n",
    "\n",
    "# Get the current Axes object\n",
    "ax = plt.gca()\n",
    "\n",
    "# Calculate and annotate the percentage of each category\n",
    "total = float(len(df['job']))\n",
    "for p in ax.patches:\n",
    "    height = p.get_height()\n",
    "    percentage = '{:.1f}%'.format(100 * height/total)\n",
    "    x = p.get_x() + p.get_width() / 2 - 0.1\n",
    "    y = height + 5\n",
    "    ax.text(x, y, percentage, fontsize=8, rotation=90, ha='center', va='bottom', color='Purple')\n",
    "\n",
    "plt.title('Job Distribution', fontsize = 14, color=\"maroon\", fontweight='bold') \n",
    "plt.xlabel('Type Of Job',fontsize = 12, color='green') \n",
    "plt.xticks(rotation = 90) \n",
    "plt.ylabel('Count',fontsize = 12, color='green')  \n",
    "\n",
    "\n",
    "\n",
    "# Marital distribution \n",
    "plt.subplot(3,4,3) \n",
    "custom_colors = {'married': 'Magenta', 'divorced': 'BlueViolet', 'single': 'Lime'}\n",
    "sns.countplot(df['marital'],order=df.marital.value_counts().index, palette=custom_colors) \n",
    "\n",
    "# Get the current Axes object\n",
    "ax = plt.gca()\n",
    "\n",
    "# Calculate and annotate the percentage of each category\n",
    "total = float(len(df['marital']))\n",
    "for p in ax.patches:\n",
    "    height = p.get_height()\n",
    "    percentage = '{:.1f}%'.format(100 * height/total)\n",
    "    x = p.get_x() + p.get_width() / 2 - 0.1\n",
    "    y = height + 5\n",
    "    ax.text(x, y, percentage, fontsize=8, rotation=90, ha='center', va='bottom', color='Purple')\n",
    "\n",
    "plt.title('Marital Status Distribution', fontsize = 14, color='maroon', fontweight='bold') \n",
    "plt.xlabel('Marital',fontsize = 12, color='green') \n",
    "plt.xticks(rotation = 90) \n",
    "plt.ylabel('Count',fontsize = 12, color='green')  \n",
    "\n",
    "\n",
    "\n",
    "# Education qualification distribution \n",
    "plt.subplot(3,4,4) \n",
    "custom_colors = {'secondary': 'DarkGreen', 'tertiary': 'LightSeaGreen', 'primary': 'Aquamarine'}\n",
    "sns.countplot(df['education_qual'],order=df.education_qual.value_counts().index, palette=custom_colors) \n",
    "\n",
    "# Get the current Axes object\n",
    "ax = plt.gca()\n",
    "\n",
    "# Calculate and annotate the percentage of each category\n",
    "total = float(len(df['education_qual']))\n",
    "for p in ax.patches:\n",
    "    height = p.get_height()\n",
    "    percentage = '{:.1f}%'.format(100 * height/total)\n",
    "    x = p.get_x() + p.get_width() / 2 - 0.1\n",
    "    y = height + 5\n",
    "    ax.text(x, y, percentage, fontsize=8, rotation=90, ha='center', va='bottom', color='Purple')\n",
    "\n",
    "plt.title('Education Qualification', fontsize = 14, color='maroon', fontweight='bold') \n",
    "plt.xlabel('Education',fontsize = 12, color='green') \n",
    "plt.xticks(rotation = 90) \n",
    "plt.ylabel('Count',fontsize = 12, color='green') \n",
    "\n",
    "\n",
    "\n",
    "\n",
    "# Call type distribution \n",
    "plt.subplot(3,4,5) \n",
    "custom_colors = {'cellular': 'MediumVioletRed', 'telephone': 'purple', 'unknown' :'MediumSpringGreen'}\n",
    "sns.countplot(df['call_type'],order=df.call_type.value_counts().index, palette=custom_colors) \n",
    "\n",
    "# Get the current Axes object\n",
    "ax = plt.gca()\n",
    "\n",
    "# Calculate and annotate the percentage of each category\n",
    "total = float(len(df['call_type']))\n",
    "for p in ax.patches:\n",
    "    height = p.get_height()\n",
    "    percentage = '{:.1f}%'.format(100 * height/total)\n",
    "    x = p.get_x() + p.get_width() / 2 - 0.1\n",
    "    y = height + 5\n",
    "    ax.text(x, y, percentage, fontsize=8, rotation=90, ha='center', va='bottom', color='Purple')\n",
    "\n",
    "plt.title('Call Type', fontsize = 14, color='maroon', fontweight='bold') \n",
    "plt.xlabel('Call type',fontsize = 12, color='green') \n",
    "plt.xticks(rotation = 90) \n",
    "plt.ylabel('Count',fontsize = 12, color='green')  \n",
    "\n",
    "\n",
    "\n",
    "\n",
    "# Day distribution \n",
    "plt.subplot(3,4,6) \n",
    "sns.histplot(df['day'], color=\"Fuchsia\") \n",
    "\n",
    "# Get the current Axes object\n",
    "ax = plt.gca()\n",
    "\n",
    "# Calculate and annotate the percentage of each category\n",
    "total = float(len(df['day']))\n",
    "for p in ax.patches:\n",
    "    height = p.get_height()\n",
    "    percentage = '{:.1f}%'.format(100 * height/total)\n",
    "    x = p.get_x() + p.get_width() / 2 - 0.1\n",
    "    y = height + 5\n",
    "    ax.text(x, y, percentage, fontsize=8, rotation=90, ha='center', va='bottom', color='Purple')\n",
    "\n",
    "plt.title('Day', fontsize = 14, color='maroon', fontweight='bold') \n",
    "plt.xlabel('Day',fontsize = 12, color='green') \n",
    "plt.xticks(rotation = 90,fontsize = 10) \n",
    "plt.ylabel('Count',fontsize = 12, color='green')  \n",
    "\n",
    "\n",
    "\n",
    "\n",
    " # Mon distribution \n",
    "plt.subplot(3,4,7) \n",
    "sns.countplot(df['mon'],order=df.mon.value_counts().index) \n",
    "\n",
    "# Get the current Axes object\n",
    "ax = plt.gca()\n",
    "\n",
    "# Calculate and annotate the percentage of each category\n",
    "total = float(len(df['mon']))\n",
    "for p in ax.patches:\n",
    "    height = p.get_height()\n",
    "    percentage = '{:.1f}%'.format(100 * height/total)\n",
    "    x = p.get_x() + p.get_width() / 2 - 0.1\n",
    "    y = height + 5\n",
    "    ax.text(x, y, percentage, fontsize=8, rotation=90, ha='center', va='bottom', color='Purple')\n",
    "\n",
    "plt.title('Month', fontsize = 14, color='maroon', fontweight='bold') \n",
    "plt.xlabel('Month',fontsize = 12, color='green') \n",
    "plt.xticks(rotation = 90) \n",
    "plt.ylabel('Count',fontsize = 12, color='green')  \n",
    "\n",
    "\n",
    "\n",
    "\n",
    "# Dur distribution \n",
    "plt.subplot(3,4,8) \n",
    "sns.histplot((df.dur),color = 'cyan')\n",
    "\n",
    "# Get the current Axes object\n",
    "ax = plt.gca()\n",
    "\n",
    "# Calculate and annotate the percentage of each category\n",
    "total = float(len(df['dur']))\n",
    "for p in ax.patches:\n",
    "    height = p.get_height()\n",
    "    percentage = '{:.1f}%'.format(100 * height/total)\n",
    "    x = p.get_x() + p.get_width() / 2 - 0.1\n",
    "    y = height + 5\n",
    "    ax.text(x, y, percentage, fontsize=8, rotation=90, ha='center', va='bottom', color='Purple')\n",
    "\n",
    "plt.title('Duration', fontsize = 14, color='maroon', fontweight='bold') \n",
    "plt.xlabel('Duration',fontsize = 12, color='green') \n",
    "plt.ylabel('Count',fontsize = 12, color='green')  \n",
    "\n",
    "\n",
    "\n",
    "\n",
    "# Num call distribution \n",
    "plt.subplot(3,4,9) \n",
    "sns.histplot(df['num_calls']) \n",
    "\n",
    "# Get the current Axes object\n",
    "ax = plt.gca()\n",
    "\n",
    "# Calculate and annotate the percentage of each category\n",
    "total = float(len(df['num_calls']))\n",
    "for p in ax.patches:\n",
    "    height = p.get_height()\n",
    "    percentage = '{:.1f}%'.format(100 * height/total)\n",
    "    x = p.get_x() + p.get_width() / 2 - 0.1\n",
    "    y = height + 5\n",
    "    ax.text(x, y, percentage, fontsize=8, rotation=90, ha='center', va='bottom', color='Purple')\n",
    "\n",
    "plt.title('Number Of Calls', fontsize = 14, color='maroon', fontweight='bold') \n",
    "plt.xlabel('Number Of Calls',fontsize = 12, color='green') \n",
    "plt.xticks(rotation = 90) \n",
    "plt.ylabel('Count',fontsize = 12, color='green')  \n",
    "\n",
    "\n",
    "# Previous outcome distribution \n",
    "plt.subplot(3,4,10) \n",
    "custom_colors = {'unknown': 'HotPink', 'failure': 'Olive', 'other': 'Purple', 'success':'Yellow'}\n",
    "sns.countplot(df['prev_outcome'],order=df.prev_outcome.value_counts().index, palette=custom_colors) \n",
    "\n",
    "# Get the current Axes object\n",
    "ax = plt.gca()\n",
    "\n",
    "# Calculate and annotate the percentage of each category\n",
    "total = float(len(df['prev_outcome']))\n",
    "for p in ax.patches:\n",
    "    height = p.get_height()\n",
    "    percentage = '{:.1f}%'.format(100 * height/total)\n",
    "    x = p.get_x() + p.get_width() / 2 - 0.1\n",
    "    y = height + 5\n",
    "    ax.text(x, y, percentage, fontsize=8, rotation=90, ha='center', va='bottom', color='Purple')\n",
    "\n",
    "plt.title('Previous Outcome', fontsize = 14, color='maroon', fontweight='bold') \n",
    "plt.xlabel('Previous Outcome',fontsize = 12, color='green') \n",
    "plt.xticks(rotation = 90) \n",
    "plt.ylabel('Count',fontsize = 12, color='green')  \n",
    "\n",
    "\n",
    " # Target distribution \n",
    "plt.subplot(3,4,11) \n",
    "custom_colors = {'no': 'GreenYellow', 'yes': 'Teal'}\n",
    "sns.countplot(df['y'], palette=custom_colors) \n",
    "\n",
    "# Get the current Axes object\n",
    "ax = plt.gca()\n",
    "\n",
    "# Calculate and annotate the percentage of each category\n",
    "total = float(len(df['y']))\n",
    "for p in ax.patches:\n",
    "    height = p.get_height()\n",
    "    percentage = '{:.1f}%'.format(100 * height/total)\n",
    "    x = p.get_x() + p.get_width() / 2 - 0.1\n",
    "    y = height + 5\n",
    "    ax.text(x, y, percentage, fontsize=8, rotation=90, ha='center', va='bottom', color='Purple')\n",
    "\n",
    "plt.title('Target Distribution', fontsize = 14, color='maroon', fontweight='bold') \n",
    "plt.xlabel('Target Distribution',fontsize = 12, color='green')\n",
    "plt.xticks(rotation = 90) \n",
    "plt.ylabel('Count',fontsize = 12, color='green')  \n",
    "\n",
    "plt.tight_layout()\n",
    "\n",
    "\n",
    "plt.show()"
   ]
  },
  {
   "cell_type": "markdown",
   "metadata": {
    "id": "9OIZwBBENxaA"
   },
   "source": [
    "**From the above plots we can clearly tell the following interpretation**"
   ]
  },
  {
   "cell_type": "markdown",
   "metadata": {
    "id": "EF2bBdxOOOfQ"
   },
   "source": [
    "### **1. Age**\n",
    "\n",
    "*   Most Target : 30 to 40 years\n",
    "*   Least Target : belove 20 and above 60\n",
    "\n",
    "\n",
    "### **2. Job**\n",
    "\n",
    "*   Most Target : blue-collar and management\n",
    "*   Least Target : students and house maid\n",
    "\n",
    "### **3. Marital Status**\n",
    "\n",
    "*   Most Target : Maried\n",
    "*   Least Target : Divorced\n",
    "\n",
    "### **4. Education**\n",
    "\n",
    "*   Most Target : Secondary\n",
    "*   Least Target : Primary\n",
    "\n",
    "### **5. Call Type**\n",
    "\n",
    "*   Most Target : cellular\n",
    "*   Least Target : telephone\n",
    "\n",
    "### **6. Day**   \n",
    "\n",
    "*   Most Target : Mid of the month\n",
    "*   Least Target : Beginning of Month\n",
    "\n",
    "### **7. Month**\n",
    "\n",
    "*   Most Target : May\n",
    "*   Least Target : December\n",
    "\n",
    "### **8. Duration**\n",
    "\n",
    "*   Most Target : call last around 1750 second\n",
    "*   Least Target : call last around 100 to 200 second\n",
    "\n",
    "### **9. No of Calls**\n",
    "\n",
    "*   Most Target : most people contacted one time \n",
    "*   Least Target : least people contacted 5 times\n",
    "\n",
    "### **10. Previous Outcome**\n",
    "\n",
    "*   Most Target : most people previous outcome was unknown \n",
    "*   Least Target : Previous outcome for least people are success\n",
    "\n",
    "### **11. Target**\n",
    "\n",
    "*   No of people insured is very less percentage (ie) 88 %, only few percentage are insured.\n"
   ]
  },
  {
   "cell_type": "markdown",
   "metadata": {
    "id": "_yrtatp3SOdF"
   },
   "source": [
    "# **Features vs Target**"
   ]
  },
  {
   "cell_type": "markdown",
   "metadata": {
    "id": "DUoMzDmmSzIY"
   },
   "source": [
    "### **Categorical Variable vs Target (Categorical) -- Job, Marital, Educational Qualification, Call Type, Month**"
   ]
  },
  {
   "cell_type": "code",
   "execution_count": null,
   "metadata": {
    "colab": {
     "base_uri": "https://localhost:8080/",
     "height": 1000
    },
    "id": "EfYX3H_yXXa0",
    "outputId": "b94fdc2d-e9df-4463-ee36-dbdc3cdf0a47"
   },
   "outputs": [],
   "source": [
    "plt.figure(figsize=(20,35), dpi=180)\n",
    "#plt.suptitle(\"Categorical Data Vs Target\", fontsize=20, fontweight='bold', color='maroon')\n",
    "#Jobs vs Target\n",
    "plt.subplot(3,3,1)\n",
    "my_colors = ['Magenta', 'cyan']\n",
    "sns.countplot(x='job',hue='y',data=df, palette=my_colors)\n",
    "plt.xticks(rotation=50)\n",
    "plt.title('Jobs vs Target', fontweight='bold', color='maroon')\n",
    "plt.xlabel('Job', color='DarkGreen')\n",
    "plt.ylabel('y', color='DarkGreen')\n",
    "\n",
    "#Marital Status vs Target\n",
    "plt.subplot(3,3,2)\n",
    "my_colors = ['Magenta', 'cyan']\n",
    "sns.countplot(x='marital',hue='y',data=df, palette=my_colors)\n",
    "plt.xticks(rotation=50)\n",
    "plt.title('Marital Status vs Target', fontweight='bold', color='maroon')\n",
    "plt.xlabel('Marital Status', color='DarkGreen')\n",
    "plt.ylabel('y', color='DarkGreen')\n",
    "\n",
    "#Educational Qualification vs Target\n",
    "plt.subplot(3,3,3)\n",
    "my_colors = ['Magenta', 'cyan']\n",
    "sns.countplot(x='education_qual',hue='y',data=df, palette=my_colors)\n",
    "plt.xticks(rotation=50)\n",
    "plt.title('Educational Qualification vs Target', fontweight='bold', color='maroon')\n",
    "plt.xlabel('Educational Qualification', color='DarkGreen')\n",
    "plt.ylabel('y', color='DarkGreen')\n",
    "\n",
    "#Month vs Target\n",
    "plt.subplot(3,3,4)\n",
    "my_colors = ['Magenta', 'cyan']\n",
    "sns.countplot(x='mon',hue='y',data=df, palette=my_colors)\n",
    "plt.xticks(rotation=50)\n",
    "plt.title('Month vs Target', fontweight='bold', color='maroon' )\n",
    "plt.xlabel('Month', color='DarkGreen')\n",
    "plt.ylabel('y', color='DarkGreen')\n",
    "\n",
    "#Previous Outcome vs Target\n",
    "plt.subplot(3,3,5)\n",
    "my_colors = ['Magenta', 'cyan']\n",
    "sns.countplot(x='prev_outcome',hue='y',data=df, palette=my_colors)\n",
    "plt.xticks(rotation=50)\n",
    "plt.title('Previous Outcome vs Target', fontweight='bold', color='maroon' )\n",
    "plt.xlabel('Previous Outcome', color='DarkGreen')\n",
    "plt.ylabel('y', color='DarkGreen')\n",
    "\n",
    "#Call Type vs Target\n",
    "plt.subplot(3,3,6)\n",
    "my_colors = ['Magenta', 'cyan']\n",
    "sns.countplot(x='call_type',hue='y',data=df, palette=my_colors)\n",
    "plt.xticks(rotation=50)\n",
    "plt.title('Call Type vs Target', fontweight='bold', color='maroon')\n",
    "plt.xlabel('Call Type', color='DarkGreen')\n",
    "plt.ylabel('y', color='DarkGreen')\n",
    "\n",
    "plt.show()\n"
   ]
  },
  {
   "cell_type": "markdown",
   "metadata": {
    "id": "sTEwXRkpQ630"
   },
   "source": [
    "### **Categorical Data Vs Target**\n",
    "**Jobs vs Target**\n",
    "\n",
    "*   Target (No) : Blue Collar\n",
    "*   Suscribed (Yes): Management\n",
    "\n",
    "**Marital Status vs Target**\n",
    "\n",
    "*   Target (No) : Married\n",
    "*   Subscribed (Yes): Married\n",
    "\n",
    "**Educational Qualification vs Target**\n",
    "\n",
    "*   Target (No): Secondary\n",
    "*   Subscribed (Yes): Secondary\n",
    "\n",
    "**Month vs Target**\n",
    "\n",
    "*   Target (No): May\n",
    "*   Subscribed (Yes): May\n",
    "\n",
    "**Previous Outcome vs Target**\n",
    "\n",
    "*   Target (No): unknown\n",
    "*   Subscribed (Yes): unknown\n",
    "\n",
    "**Call Type vs Target**\n",
    "\n",
    "*   Target (No): Cellular\n",
    "*   Subscribed (Yes): Cellular"
   ]
  },
  {
   "cell_type": "markdown",
   "metadata": {
    "id": "lsTyQ2UhL_IW"
   },
   "source": [
    "### **Feature VS Target Distribution - Percentage of people Subscribed**"
   ]
  },
  {
   "cell_type": "code",
   "execution_count": null,
   "metadata": {
    "colab": {
     "base_uri": "https://localhost:8080/",
     "height": 1000
    },
    "id": "6WWXzvAwGqV5",
    "outputId": "b7ead520-70bd-4819-bf95-1edeee891062"
   },
   "outputs": [],
   "source": [
    "plt.figure(figsize=(20,35), dpi=180)\n",
    "#plt.suptitle(\"Categorical Data Vs Target\", fontsize=20, fontweight='bold', color='maroon')\n",
    "\n",
    "#Jobs vs Target\n",
    "plt.subplot(3,3,1)\n",
    "(df.groupby('job')['target'].mean()*100).sort_values().plot(kind=\"bar\",color='cyan')\n",
    "plt.xticks(rotation=50)\n",
    "plt.title('Jobs vs Target', fontweight='bold', color='maroon')\n",
    "plt.xlabel('Job', color='DarkGreen')\n",
    "plt.ylabel('y', color='DarkGreen')\n",
    "\n",
    "#Marital Status vs Target\n",
    "plt.subplot(3,3,2)\n",
    "(df.groupby('marital')['target'].mean()*100).sort_values().plot(kind=\"bar\",color='Magenta')\n",
    "plt.xticks(rotation=50)\n",
    "plt.title('Marital Status vs Target', fontweight='bold', color='maroon')\n",
    "plt.xlabel('Marital Status', color='DarkGreen')\n",
    "plt.ylabel('y', color='DarkGreen')\n",
    "\n",
    "#Educational Qualification vs Target\n",
    "plt.subplot(3,3,3)\n",
    "(df.groupby('education_qual')['target'].mean()*100).sort_values().plot(kind=\"bar\",color='cyan')\n",
    "plt.xticks(rotation=50)\n",
    "plt.title('Educational Qualification vs Target', fontweight='bold', color='maroon')\n",
    "plt.xlabel('Educational Qualification', color='DarkGreen')\n",
    "plt.ylabel('y', color='DarkGreen')\n",
    "\n",
    "#Month vs Target\n",
    "plt.subplot(3,3,4)\n",
    "(df.groupby('mon')['target'].mean()*100).sort_values().plot(kind=\"bar\",color='Magenta')\n",
    "plt.xticks(rotation=50)\n",
    "plt.title('Month vs Target', fontweight='bold', color='maroon' )\n",
    "plt.xlabel('Month', color='DarkGreen')\n",
    "plt.ylabel('y', color='DarkGreen')\n",
    "\n",
    "#Call Type vs Target\n",
    "plt.subplot(3,3,5)\n",
    "(df.groupby('call_type')['target'].mean()*100).sort_values().plot(kind=\"bar\",color='cyan')\n",
    "plt.xticks(rotation=50)\n",
    "plt.title('Call Type vs Target', fontweight='bold', color='maroon')\n",
    "plt.xlabel('Call Type', color='DarkGreen')\n",
    "plt.ylabel('y', color='DarkGreen')\n",
    "\n",
    "#Previous Outcome vs Target\n",
    "plt.subplot(3,3,6)\n",
    "(df.groupby('prev_outcome')['target'].mean()*100).sort_values().plot(kind=\"bar\",color='Magenta')\n",
    "plt.xticks(rotation=50)\n",
    "plt.title('Previous Outcome vs Target', fontweight='bold', color='maroon')\n",
    "plt.xlabel('Previous Outcome', color='DarkGreen')\n",
    "plt.ylabel('y', color='DarkGreen')\n",
    "\n",
    "\n",
    "plt.show()\n"
   ]
  },
  {
   "cell_type": "markdown",
   "metadata": {
    "id": "Mf32BIN_OIVV"
   },
   "source": [
    "### **Percentage of people Subscribed -- Categorical Data Vs Target (Categorical)**\n",
    "**Jobs vs Target**\n",
    "\n",
    "*   Most subscribed % : Student, retired\n",
    "*   Least Subscribed % : blue-collar\n",
    "\n",
    "**Marital Status vs Target**\n",
    "\n",
    "*   Most subscribed % : Single\n",
    "*   Least Subscribed % : Married\n",
    "\n",
    "**Educational Qualification vs Target**\n",
    "\n",
    "*   Most subscribed % : teritary\n",
    "*   Least Subscribed % : primary\n",
    "\n",
    "**Month vs Target**\n",
    "\n",
    "*   Most subscribed % : March, September\n",
    "*   Least Subscribed % : May\n",
    "\n",
    "**Call Type vs Target**\n",
    "\n",
    "*   Most subscribed % : Cellular\n",
    "*   Least Subscribed % : unknown\n",
    "\n",
    "**Previous Outcome vs Target**\n",
    "\n",
    "*   Most subscribed % : Success\n",
    "*   Least Subscribed % : unknown\n",
    "\n"
   ]
  },
  {
   "cell_type": "markdown",
   "metadata": {
    "id": "EFZaeis3xrAs"
   },
   "source": [
    "### **Numerical Variable vs Target -- Age, Day, Duration, No of Calls** "
   ]
  },
  {
   "cell_type": "code",
   "execution_count": 79,
   "metadata": {
    "colab": {
     "base_uri": "https://localhost:8080/",
     "height": 1000
    },
    "id": "98f-qtQNxn3K",
    "outputId": "9517a4bb-258e-4ba0-bdda-dd169e8bbec9"
   },
   "outputs": [
    {
     "data": {
      "image/png": "[encoded data removed]",
      "text/plain": [
       "<Figure size 3000x2250 with 4 Axes>"
      ]
     },
     "metadata": {},
     "output_type": "display_data"
    }
   ],
   "source": [
    "plt.figure(figsize=(20, 15), dpi=150)\n",
    "#sub title to show title for overall plot \n",
    "plt.suptitle(\"Numerical Data Vs Target\", fontsize=18,  fontweight='bold', color='maroon') \n",
    "\n",
    "#Age vs Target\n",
    "plt.subplot(2,2,1)\n",
    "my_colors = ['Magenta', 'DarkBlue']\n",
    "sns.histplot(x='age',hue='y',data=df, palette=my_colors)\n",
    "plt.xticks(rotation=50)\n",
    "plt.title('Age vs Target', fontweight='bold', color='maroon' )\n",
    "plt.xlabel('Age', color='DarkGreen')\n",
    "plt.ylabel('y', color='DarkGreen')\n",
    "#df[['age','target']].corr()\n",
    "\n",
    "#Day vs Target\n",
    "plt.subplot(2,2,2)\n",
    "my_colors = ['Magenta', 'DarkBlue']\n",
    "sns.histplot(x='day',hue='y',data=df, palette=my_colors)\n",
    "plt.xticks(rotation=50)\n",
    "plt.title('Day vs Target', fontweight='bold', color='maroon' )\n",
    "plt.xlabel('Day', color='DarkGreen')\n",
    "plt.ylabel('y', color='DarkGreen')\n",
    "#df[['day','target']].corr()\n",
    "\n",
    "#Duration vs Target\n",
    "plt.subplot(2,2,3)\n",
    "my_colors = ['Magenta', 'DarkBlue']\n",
    "sns.histplot(x='dur',hue='y',data=df, palette=my_colors)\n",
    "plt.xticks(rotation=50)\n",
    "plt.title('Duration vs Target', fontweight='bold', color='maroon' )\n",
    "plt.xlabel('Duration', color='DarkGreen')\n",
    "plt.ylabel('y', color='DarkGreen')\n",
    "\n",
    "#No of Calls vs Target\n",
    "plt.subplot(2,2,4)\n",
    "my_colors = ['Magenta', 'DarkBlue']\n",
    "sns.histplot(x='num_calls',hue='y',data=df, palette=my_colors)\n",
    "plt.xticks(rotation=50)\n",
    "plt.title('No of Calls vs Target', fontweight='bold', color='maroon' )\n",
    "plt.xlabel('No Of Calls', color='DarkGreen')\n",
    "plt.ylabel('y', color='DarkGreen')\n",
    "\n",
    "plt.show()\n"
   ]
  },
  {
   "cell_type": "markdown",
   "metadata": {
    "id": "7R7T_tUcXDJG"
   },
   "source": [
    "### **Numeric Data vs Target**\n",
    "\n",
    "**Age vs Target**\n",
    "\n",
    "*   Target : Middle age people\n",
    "*   Subscribed : Middle age people\n",
    "\n",
    "**Day vs Target**\n",
    "\n",
    "*   Target : Middle of Month\n",
    "*   Subscribed : Middle of Month\n",
    "\n",
    "**Duration vs Target**\n",
    "\n",
    "*  Duration of call is also important to subscribe for insurance.\n",
    "\n",
    "**No of Calls vs Target**\n",
    "\n",
    "*  No of calls increase subscrition also getting increase.\n"
   ]
  },
  {
   "cell_type": "markdown",
   "metadata": {
    "id": "mVXl4KuHL7qb"
   },
   "source": [
    "# **Encoding**\n",
    "In this project i am going to use decision tree so we muct do label encoding. "
   ]
  },
  {
   "cell_type": "code",
   "execution_count": 80,
   "metadata": {
    "colab": {
     "base_uri": "https://localhost:8080/"
    },
    "id": "IhCDTXPzauX1",
    "outputId": "58027dc3-4e2b-4882-b339-dba33f142070"
   },
   "outputs": [
    {
     "data": {
      "text/plain": [
       "Index(['age', 'job', 'marital', 'education_qual', 'call_type', 'day', 'mon',\n",
       "       'dur', 'num_calls', 'prev_outcome', 'y', 'target'],\n",
       "      dtype='object')"
      ]
     },
     "execution_count": 80,
     "metadata": {},
     "output_type": "execute_result"
    }
   ],
   "source": [
    "df.columns"
   ]
  },
  {
   "cell_type": "markdown",
   "metadata": {
    "id": "vYytwZWmL-F8"
   },
   "source": [
    "### **Job**"
   ]
  },
  {
   "cell_type": "code",
   "execution_count": 81,
   "metadata": {
    "colab": {
     "base_uri": "https://localhost:8080/",
     "height": 143
    },
    "id": "z74jPYCiMsES",
    "outputId": "756dbccf-75d8-46f3-96ad-0013d63c8d13"
   },
   "outputs": [
    {
     "data": {
      "text/html": [
       "<div>\n",
       "<style scoped>\n",
       "    .dataframe tbody tr th:only-of-type {\n",
       "        vertical-align: middle;\n",
       "    }\n",
       "\n",
       "    .dataframe tbody tr th {\n",
       "        vertical-align: top;\n",
       "    }\n",
       "\n",
       "    .dataframe thead th {\n",
       "        text-align: right;\n",
       "    }\n",
       "</style>\n",
       "<table border=\"1\" class=\"dataframe\">\n",
       "  <thead>\n",
       "    <tr style=\"text-align: right;\">\n",
       "      <th></th>\n",
       "      <th>age</th>\n",
       "      <th>job</th>\n",
       "      <th>marital</th>\n",
       "      <th>education_qual</th>\n",
       "      <th>call_type</th>\n",
       "      <th>day</th>\n",
       "      <th>mon</th>\n",
       "      <th>dur</th>\n",
       "      <th>num_calls</th>\n",
       "      <th>prev_outcome</th>\n",
       "      <th>y</th>\n",
       "      <th>target</th>\n",
       "    </tr>\n",
       "  </thead>\n",
       "  <tbody>\n",
       "    <tr>\n",
       "      <th>0</th>\n",
       "      <td>58.0</td>\n",
       "      <td>8</td>\n",
       "      <td>married</td>\n",
       "      <td>tertiary</td>\n",
       "      <td>unknown</td>\n",
       "      <td>5</td>\n",
       "      <td>may</td>\n",
       "      <td>261.0</td>\n",
       "      <td>1</td>\n",
       "      <td>unknown</td>\n",
       "      <td>no</td>\n",
       "      <td>0</td>\n",
       "    </tr>\n",
       "    <tr>\n",
       "      <th>1</th>\n",
       "      <td>44.0</td>\n",
       "      <td>5</td>\n",
       "      <td>single</td>\n",
       "      <td>secondary</td>\n",
       "      <td>unknown</td>\n",
       "      <td>5</td>\n",
       "      <td>may</td>\n",
       "      <td>151.0</td>\n",
       "      <td>1</td>\n",
       "      <td>unknown</td>\n",
       "      <td>no</td>\n",
       "      <td>0</td>\n",
       "    </tr>\n",
       "    <tr>\n",
       "      <th>2</th>\n",
       "      <td>33.0</td>\n",
       "      <td>2</td>\n",
       "      <td>married</td>\n",
       "      <td>secondary</td>\n",
       "      <td>unknown</td>\n",
       "      <td>5</td>\n",
       "      <td>may</td>\n",
       "      <td>76.0</td>\n",
       "      <td>1</td>\n",
       "      <td>unknown</td>\n",
       "      <td>no</td>\n",
       "      <td>0</td>\n",
       "    </tr>\n",
       "  </tbody>\n",
       "</table>\n",
       "</div>"
      ],
      "text/plain": [
       "    age  job  marital education_qual call_type  day  mon    dur  num_calls  \\\n",
       "0  58.0    8  married       tertiary   unknown    5  may  261.0          1   \n",
       "1  44.0    5   single      secondary   unknown    5  may  151.0          1   \n",
       "2  33.0    2  married      secondary   unknown    5  may   76.0          1   \n",
       "\n",
       "  prev_outcome   y  target  \n",
       "0      unknown  no       0  \n",
       "1      unknown  no       0  \n",
       "2      unknown  no       0  "
      ]
     },
     "execution_count": 81,
     "metadata": {},
     "output_type": "execute_result"
    }
   ],
   "source": [
    "#Encoding for job column (Label Encoding)\n",
    "df['job']=df['job'].map({'blue-collar':1,'entrepreneur':2,'services':3,'housemaid':4,'technician':5,'self-employed':6,'admin.':7,'management':8, 'unemployed':9, 'retired': 10, 'student' : 11})   \n",
    "df.head(3)\n"
   ]
  },
  {
   "cell_type": "markdown",
   "metadata": {
    "id": "PutzWeRqQBlI"
   },
   "source": [
    "### **Marital Status**"
   ]
  },
  {
   "cell_type": "code",
   "execution_count": 82,
   "metadata": {
    "colab": {
     "base_uri": "https://localhost:8080/",
     "height": 143
    },
    "id": "je6Bopp3R2fR",
    "outputId": "ddc03414-d867-4039-afe8-1719b5b415fb"
   },
   "outputs": [
    {
     "data": {
      "text/html": [
       "<div>\n",
       "<style scoped>\n",
       "    .dataframe tbody tr th:only-of-type {\n",
       "        vertical-align: middle;\n",
       "    }\n",
       "\n",
       "    .dataframe tbody tr th {\n",
       "        vertical-align: top;\n",
       "    }\n",
       "\n",
       "    .dataframe thead th {\n",
       "        text-align: right;\n",
       "    }\n",
       "</style>\n",
       "<table border=\"1\" class=\"dataframe\">\n",
       "  <thead>\n",
       "    <tr style=\"text-align: right;\">\n",
       "      <th></th>\n",
       "      <th>age</th>\n",
       "      <th>job</th>\n",
       "      <th>marital</th>\n",
       "      <th>education_qual</th>\n",
       "      <th>call_type</th>\n",
       "      <th>day</th>\n",
       "      <th>mon</th>\n",
       "      <th>dur</th>\n",
       "      <th>num_calls</th>\n",
       "      <th>prev_outcome</th>\n",
       "      <th>y</th>\n",
       "      <th>target</th>\n",
       "    </tr>\n",
       "  </thead>\n",
       "  <tbody>\n",
       "    <tr>\n",
       "      <th>0</th>\n",
       "      <td>58.0</td>\n",
       "      <td>8</td>\n",
       "      <td>1</td>\n",
       "      <td>tertiary</td>\n",
       "      <td>unknown</td>\n",
       "      <td>5</td>\n",
       "      <td>may</td>\n",
       "      <td>261.0</td>\n",
       "      <td>1</td>\n",
       "      <td>unknown</td>\n",
       "      <td>no</td>\n",
       "      <td>0</td>\n",
       "    </tr>\n",
       "    <tr>\n",
       "      <th>1</th>\n",
       "      <td>44.0</td>\n",
       "      <td>5</td>\n",
       "      <td>3</td>\n",
       "      <td>secondary</td>\n",
       "      <td>unknown</td>\n",
       "      <td>5</td>\n",
       "      <td>may</td>\n",
       "      <td>151.0</td>\n",
       "      <td>1</td>\n",
       "      <td>unknown</td>\n",
       "      <td>no</td>\n",
       "      <td>0</td>\n",
       "    </tr>\n",
       "    <tr>\n",
       "      <th>2</th>\n",
       "      <td>33.0</td>\n",
       "      <td>2</td>\n",
       "      <td>1</td>\n",
       "      <td>secondary</td>\n",
       "      <td>unknown</td>\n",
       "      <td>5</td>\n",
       "      <td>may</td>\n",
       "      <td>76.0</td>\n",
       "      <td>1</td>\n",
       "      <td>unknown</td>\n",
       "      <td>no</td>\n",
       "      <td>0</td>\n",
       "    </tr>\n",
       "  </tbody>\n",
       "</table>\n",
       "</div>"
      ],
      "text/plain": [
       "    age  job  marital education_qual call_type  day  mon    dur  num_calls  \\\n",
       "0  58.0    8        1       tertiary   unknown    5  may  261.0          1   \n",
       "1  44.0    5        3      secondary   unknown    5  may  151.0          1   \n",
       "2  33.0    2        1      secondary   unknown    5  may   76.0          1   \n",
       "\n",
       "  prev_outcome   y  target  \n",
       "0      unknown  no       0  \n",
       "1      unknown  no       0  \n",
       "2      unknown  no       0  "
      ]
     },
     "execution_count": 82,
     "metadata": {},
     "output_type": "execute_result"
    }
   ],
   "source": [
    "#Encoding for Marital status (Label Encoding)\n",
    "df['marital'] =df['marital'].map({'married': 1, 'divorced': 2, 'single' : 3})\n",
    "df.head(3)"
   ]
  },
  {
   "cell_type": "markdown",
   "metadata": {
    "id": "jXqv5RjpTUTx"
   },
   "source": [
    "### **Educational Qualification**"
   ]
  },
  {
   "cell_type": "code",
   "execution_count": 83,
   "metadata": {
    "colab": {
     "base_uri": "https://localhost:8080/",
     "height": 143
    },
    "id": "_8qEvf1NTZ76",
    "outputId": "0ed84ff6-ccfd-4616-c982-5da28f731d16"
   },
   "outputs": [
    {
     "data": {
      "text/html": [
       "<div>\n",
       "<style scoped>\n",
       "    .dataframe tbody tr th:only-of-type {\n",
       "        vertical-align: middle;\n",
       "    }\n",
       "\n",
       "    .dataframe tbody tr th {\n",
       "        vertical-align: top;\n",
       "    }\n",
       "\n",
       "    .dataframe thead th {\n",
       "        text-align: right;\n",
       "    }\n",
       "</style>\n",
       "<table border=\"1\" class=\"dataframe\">\n",
       "  <thead>\n",
       "    <tr style=\"text-align: right;\">\n",
       "      <th></th>\n",
       "      <th>age</th>\n",
       "      <th>job</th>\n",
       "      <th>marital</th>\n",
       "      <th>education_qual</th>\n",
       "      <th>call_type</th>\n",
       "      <th>day</th>\n",
       "      <th>mon</th>\n",
       "      <th>dur</th>\n",
       "      <th>num_calls</th>\n",
       "      <th>prev_outcome</th>\n",
       "      <th>y</th>\n",
       "      <th>target</th>\n",
       "    </tr>\n",
       "  </thead>\n",
       "  <tbody>\n",
       "    <tr>\n",
       "      <th>0</th>\n",
       "      <td>58.0</td>\n",
       "      <td>8</td>\n",
       "      <td>1</td>\n",
       "      <td>3</td>\n",
       "      <td>unknown</td>\n",
       "      <td>5</td>\n",
       "      <td>may</td>\n",
       "      <td>261.0</td>\n",
       "      <td>1</td>\n",
       "      <td>unknown</td>\n",
       "      <td>no</td>\n",
       "      <td>0</td>\n",
       "    </tr>\n",
       "    <tr>\n",
       "      <th>1</th>\n",
       "      <td>44.0</td>\n",
       "      <td>5</td>\n",
       "      <td>3</td>\n",
       "      <td>2</td>\n",
       "      <td>unknown</td>\n",
       "      <td>5</td>\n",
       "      <td>may</td>\n",
       "      <td>151.0</td>\n",
       "      <td>1</td>\n",
       "      <td>unknown</td>\n",
       "      <td>no</td>\n",
       "      <td>0</td>\n",
       "    </tr>\n",
       "    <tr>\n",
       "      <th>2</th>\n",
       "      <td>33.0</td>\n",
       "      <td>2</td>\n",
       "      <td>1</td>\n",
       "      <td>2</td>\n",
       "      <td>unknown</td>\n",
       "      <td>5</td>\n",
       "      <td>may</td>\n",
       "      <td>76.0</td>\n",
       "      <td>1</td>\n",
       "      <td>unknown</td>\n",
       "      <td>no</td>\n",
       "      <td>0</td>\n",
       "    </tr>\n",
       "  </tbody>\n",
       "</table>\n",
       "</div>"
      ],
      "text/plain": [
       "    age  job  marital  education_qual call_type  day  mon    dur  num_calls  \\\n",
       "0  58.0    8        1               3   unknown    5  may  261.0          1   \n",
       "1  44.0    5        3               2   unknown    5  may  151.0          1   \n",
       "2  33.0    2        1               2   unknown    5  may   76.0          1   \n",
       "\n",
       "  prev_outcome   y  target  \n",
       "0      unknown  no       0  \n",
       "1      unknown  no       0  \n",
       "2      unknown  no       0  "
      ]
     },
     "execution_count": 83,
     "metadata": {},
     "output_type": "execute_result"
    }
   ],
   "source": [
    "#encoding for educational qualification (Label Encoding)\n",
    "df['education_qual'] = df['education_qual'].map({'primary': 1, 'secondary': 2, 'tertiary' :3})\n",
    "df.head(3)"
   ]
  },
  {
   "cell_type": "markdown",
   "metadata": {
    "id": "IrA26lGiX_C-"
   },
   "source": [
    "### **Month**"
   ]
  },
  {
   "cell_type": "code",
   "execution_count": 84,
   "metadata": {
    "colab": {
     "base_uri": "https://localhost:8080/",
     "height": 143
    },
    "id": "_DzhNY4JYFWv",
    "outputId": "55a1d118-3548-431d-c582-902307af20b1"
   },
   "outputs": [
    {
     "data": {
      "text/html": [
       "<div>\n",
       "<style scoped>\n",
       "    .dataframe tbody tr th:only-of-type {\n",
       "        vertical-align: middle;\n",
       "    }\n",
       "\n",
       "    .dataframe tbody tr th {\n",
       "        vertical-align: top;\n",
       "    }\n",
       "\n",
       "    .dataframe thead th {\n",
       "        text-align: right;\n",
       "    }\n",
       "</style>\n",
       "<table border=\"1\" class=\"dataframe\">\n",
       "  <thead>\n",
       "    <tr style=\"text-align: right;\">\n",
       "      <th></th>\n",
       "      <th>age</th>\n",
       "      <th>job</th>\n",
       "      <th>marital</th>\n",
       "      <th>education_qual</th>\n",
       "      <th>call_type</th>\n",
       "      <th>day</th>\n",
       "      <th>mon</th>\n",
       "      <th>dur</th>\n",
       "      <th>num_calls</th>\n",
       "      <th>prev_outcome</th>\n",
       "      <th>y</th>\n",
       "      <th>target</th>\n",
       "    </tr>\n",
       "  </thead>\n",
       "  <tbody>\n",
       "    <tr>\n",
       "      <th>0</th>\n",
       "      <td>58.0</td>\n",
       "      <td>8</td>\n",
       "      <td>1</td>\n",
       "      <td>3</td>\n",
       "      <td>unknown</td>\n",
       "      <td>5</td>\n",
       "      <td>1</td>\n",
       "      <td>261.0</td>\n",
       "      <td>1</td>\n",
       "      <td>unknown</td>\n",
       "      <td>no</td>\n",
       "      <td>0</td>\n",
       "    </tr>\n",
       "    <tr>\n",
       "      <th>1</th>\n",
       "      <td>44.0</td>\n",
       "      <td>5</td>\n",
       "      <td>3</td>\n",
       "      <td>2</td>\n",
       "      <td>unknown</td>\n",
       "      <td>5</td>\n",
       "      <td>1</td>\n",
       "      <td>151.0</td>\n",
       "      <td>1</td>\n",
       "      <td>unknown</td>\n",
       "      <td>no</td>\n",
       "      <td>0</td>\n",
       "    </tr>\n",
       "    <tr>\n",
       "      <th>2</th>\n",
       "      <td>33.0</td>\n",
       "      <td>2</td>\n",
       "      <td>1</td>\n",
       "      <td>2</td>\n",
       "      <td>unknown</td>\n",
       "      <td>5</td>\n",
       "      <td>1</td>\n",
       "      <td>76.0</td>\n",
       "      <td>1</td>\n",
       "      <td>unknown</td>\n",
       "      <td>no</td>\n",
       "      <td>0</td>\n",
       "    </tr>\n",
       "  </tbody>\n",
       "</table>\n",
       "</div>"
      ],
      "text/plain": [
       "    age  job  marital  education_qual call_type  day  mon    dur  num_calls  \\\n",
       "0  58.0    8        1               3   unknown    5    1  261.0          1   \n",
       "1  44.0    5        3               2   unknown    5    1  151.0          1   \n",
       "2  33.0    2        1               2   unknown    5    1   76.0          1   \n",
       "\n",
       "  prev_outcome   y  target  \n",
       "0      unknown  no       0  \n",
       "1      unknown  no       0  \n",
       "2      unknown  no       0  "
      ]
     },
     "execution_count": 84,
     "metadata": {},
     "output_type": "execute_result"
    }
   ],
   "source": [
    "# Encoding for month column (Label Encoding)\n",
    "df['mon']=df['mon'].map({'may': 1, 'jul' : 2, 'jan': 3, 'nov': 4, 'jun' : 5, 'aug' : 6, 'feb' : 7, 'apr' : 8, 'oct' : 9, 'dec' : 10 , 'sep': 11, 'mar': 12})\n",
    "df.head(3)"
   ]
  },
  {
   "cell_type": "markdown",
   "metadata": {
    "id": "unXBwTAMZH7X"
   },
   "source": [
    "### **Call Type**"
   ]
  },
  {
   "cell_type": "code",
   "execution_count": 85,
   "metadata": {
    "colab": {
     "base_uri": "https://localhost:8080/",
     "height": 143
    },
    "id": "fCFsAASFZQLd",
    "outputId": "493a5993-f46c-44d5-d181-e95406be47c0"
   },
   "outputs": [
    {
     "data": {
      "text/html": [
       "<div>\n",
       "<style scoped>\n",
       "    .dataframe tbody tr th:only-of-type {\n",
       "        vertical-align: middle;\n",
       "    }\n",
       "\n",
       "    .dataframe tbody tr th {\n",
       "        vertical-align: top;\n",
       "    }\n",
       "\n",
       "    .dataframe thead th {\n",
       "        text-align: right;\n",
       "    }\n",
       "</style>\n",
       "<table border=\"1\" class=\"dataframe\">\n",
       "  <thead>\n",
       "    <tr style=\"text-align: right;\">\n",
       "      <th></th>\n",
       "      <th>age</th>\n",
       "      <th>job</th>\n",
       "      <th>marital</th>\n",
       "      <th>education_qual</th>\n",
       "      <th>call_type</th>\n",
       "      <th>day</th>\n",
       "      <th>mon</th>\n",
       "      <th>dur</th>\n",
       "      <th>num_calls</th>\n",
       "      <th>prev_outcome</th>\n",
       "      <th>y</th>\n",
       "      <th>target</th>\n",
       "    </tr>\n",
       "  </thead>\n",
       "  <tbody>\n",
       "    <tr>\n",
       "      <th>0</th>\n",
       "      <td>58.0</td>\n",
       "      <td>8</td>\n",
       "      <td>1</td>\n",
       "      <td>3</td>\n",
       "      <td>1</td>\n",
       "      <td>5</td>\n",
       "      <td>1</td>\n",
       "      <td>261.0</td>\n",
       "      <td>1</td>\n",
       "      <td>unknown</td>\n",
       "      <td>no</td>\n",
       "      <td>0</td>\n",
       "    </tr>\n",
       "    <tr>\n",
       "      <th>1</th>\n",
       "      <td>44.0</td>\n",
       "      <td>5</td>\n",
       "      <td>3</td>\n",
       "      <td>2</td>\n",
       "      <td>1</td>\n",
       "      <td>5</td>\n",
       "      <td>1</td>\n",
       "      <td>151.0</td>\n",
       "      <td>1</td>\n",
       "      <td>unknown</td>\n",
       "      <td>no</td>\n",
       "      <td>0</td>\n",
       "    </tr>\n",
       "    <tr>\n",
       "      <th>2</th>\n",
       "      <td>33.0</td>\n",
       "      <td>2</td>\n",
       "      <td>1</td>\n",
       "      <td>2</td>\n",
       "      <td>1</td>\n",
       "      <td>5</td>\n",
       "      <td>1</td>\n",
       "      <td>76.0</td>\n",
       "      <td>1</td>\n",
       "      <td>unknown</td>\n",
       "      <td>no</td>\n",
       "      <td>0</td>\n",
       "    </tr>\n",
       "  </tbody>\n",
       "</table>\n",
       "</div>"
      ],
      "text/plain": [
       "    age  job  marital  education_qual  call_type  day  mon    dur  num_calls  \\\n",
       "0  58.0    8        1               3          1    5    1  261.0          1   \n",
       "1  44.0    5        3               2          1    5    1  151.0          1   \n",
       "2  33.0    2        1               2          1    5    1   76.0          1   \n",
       "\n",
       "  prev_outcome   y  target  \n",
       "0      unknown  no       0  \n",
       "1      unknown  no       0  \n",
       "2      unknown  no       0  "
      ]
     },
     "execution_count": 85,
     "metadata": {},
     "output_type": "execute_result"
    }
   ],
   "source": [
    "# Encoding for call type column (Label Encoding)\n",
    "df['call_type'] = df['call_type'].map({'unknown': 1, 'telephone' : 2, 'cellular' : 3})\n",
    "df.head(3)"
   ]
  },
  {
   "cell_type": "markdown",
   "metadata": {
    "id": "TtQVpdBkZro3"
   },
   "source": [
    "### **Previous Outcome**"
   ]
  },
  {
   "cell_type": "code",
   "execution_count": 86,
   "metadata": {
    "colab": {
     "base_uri": "https://localhost:8080/",
     "height": 143
    },
    "id": "K4kPk8nuZyxg",
    "outputId": "26aaddb9-9aad-44f5-8325-946d2871fb91"
   },
   "outputs": [
    {
     "data": {
      "text/html": [
       "<div>\n",
       "<style scoped>\n",
       "    .dataframe tbody tr th:only-of-type {\n",
       "        vertical-align: middle;\n",
       "    }\n",
       "\n",
       "    .dataframe tbody tr th {\n",
       "        vertical-align: top;\n",
       "    }\n",
       "\n",
       "    .dataframe thead th {\n",
       "        text-align: right;\n",
       "    }\n",
       "</style>\n",
       "<table border=\"1\" class=\"dataframe\">\n",
       "  <thead>\n",
       "    <tr style=\"text-align: right;\">\n",
       "      <th></th>\n",
       "      <th>age</th>\n",
       "      <th>job</th>\n",
       "      <th>marital</th>\n",
       "      <th>education_qual</th>\n",
       "      <th>call_type</th>\n",
       "      <th>day</th>\n",
       "      <th>mon</th>\n",
       "      <th>dur</th>\n",
       "      <th>num_calls</th>\n",
       "      <th>prev_outcome</th>\n",
       "      <th>y</th>\n",
       "      <th>target</th>\n",
       "    </tr>\n",
       "  </thead>\n",
       "  <tbody>\n",
       "    <tr>\n",
       "      <th>0</th>\n",
       "      <td>58.0</td>\n",
       "      <td>8</td>\n",
       "      <td>1</td>\n",
       "      <td>3</td>\n",
       "      <td>1</td>\n",
       "      <td>5</td>\n",
       "      <td>1</td>\n",
       "      <td>261.0</td>\n",
       "      <td>1</td>\n",
       "      <td>1</td>\n",
       "      <td>no</td>\n",
       "      <td>0</td>\n",
       "    </tr>\n",
       "    <tr>\n",
       "      <th>1</th>\n",
       "      <td>44.0</td>\n",
       "      <td>5</td>\n",
       "      <td>3</td>\n",
       "      <td>2</td>\n",
       "      <td>1</td>\n",
       "      <td>5</td>\n",
       "      <td>1</td>\n",
       "      <td>151.0</td>\n",
       "      <td>1</td>\n",
       "      <td>1</td>\n",
       "      <td>no</td>\n",
       "      <td>0</td>\n",
       "    </tr>\n",
       "    <tr>\n",
       "      <th>2</th>\n",
       "      <td>33.0</td>\n",
       "      <td>2</td>\n",
       "      <td>1</td>\n",
       "      <td>2</td>\n",
       "      <td>1</td>\n",
       "      <td>5</td>\n",
       "      <td>1</td>\n",
       "      <td>76.0</td>\n",
       "      <td>1</td>\n",
       "      <td>1</td>\n",
       "      <td>no</td>\n",
       "      <td>0</td>\n",
       "    </tr>\n",
       "  </tbody>\n",
       "</table>\n",
       "</div>"
      ],
      "text/plain": [
       "    age  job  marital  education_qual  call_type  day  mon    dur  num_calls  \\\n",
       "0  58.0    8        1               3          1    5    1  261.0          1   \n",
       "1  44.0    5        3               2          1    5    1  151.0          1   \n",
       "2  33.0    2        1               2          1    5    1   76.0          1   \n",
       "\n",
       "   prev_outcome   y  target  \n",
       "0             1  no       0  \n",
       "1             1  no       0  \n",
       "2             1  no       0  "
      ]
     },
     "execution_count": 86,
     "metadata": {},
     "output_type": "execute_result"
    }
   ],
   "source": [
    "# Encoding for previous outcome column (Label Encoding)\n",
    "df['prev_outcome']=df['prev_outcome'].map({'unknown' : 1, 'failure' : 2, 'other' : 3, 'success': 4})\n",
    "df.head(3)"
   ]
  },
  {
   "cell_type": "markdown",
   "metadata": {
    "id": "qNyrr82AfowW"
   },
   "source": [
    "# **Feature and Target Selection**"
   ]
  },
  {
   "cell_type": "code",
   "execution_count": 87,
   "metadata": {
    "colab": {
     "base_uri": "https://localhost:8080/"
    },
    "id": "MhlfZR8afuDU",
    "outputId": "fa841308-6192-448c-d0ba-7b984e212be3"
   },
   "outputs": [
    {
     "data": {
      "text/plain": [
       "Index(['age', 'job', 'marital', 'education_qual', 'call_type', 'day', 'mon',\n",
       "       'dur', 'num_calls', 'prev_outcome', 'y', 'target'],\n",
       "      dtype='object')"
      ]
     },
     "execution_count": 87,
     "metadata": {},
     "output_type": "execute_result"
    }
   ],
   "source": [
    "df.columns"
   ]
  },
  {
   "cell_type": "code",
   "execution_count": 88,
   "metadata": {
    "id": "blq55EK2fxme"
   },
   "outputs": [],
   "source": [
    "# X --> Feature y-- > Target\n",
    "\n",
    "x = df[['age', 'job', 'marital', 'education_qual', 'call_type', 'day', 'mon', 'dur', 'num_calls', 'prev_outcome']].values\n",
    "y=df['target'].values"
   ]
  },
  {
   "cell_type": "markdown",
   "metadata": {
    "id": "bXWzbTQUai1U"
   },
   "source": [
    "# **Spliting**"
   ]
  },
  {
   "cell_type": "code",
   "execution_count": 89,
   "metadata": {
    "id": "7Dn3HgRoamL0"
   },
   "outputs": [],
   "source": [
    "# splitting the data as train and test\n",
    "\n",
    "from sklearn.model_selection import train_test_split\n",
    "x_train, x_test, y_train, y_test = train_test_split(x, y, test_size=0.2,random_state = 3 )\n"
   ]
  },
  {
   "cell_type": "markdown",
   "metadata": {
    "id": "3Dvjbdwsv1vA"
   },
   "source": [
    "# **Balancing**"
   ]
  },
  {
   "cell_type": "code",
   "execution_count": 90,
   "metadata": {},
   "outputs": [
    {
     "name": "stdout",
     "output_type": "stream",
     "text": [
      "Requirement already satisfied: imbalanced-learn in c:\\users\\dell\\anaconda3\\lib\\site-packages (0.11.0)\n",
      "Requirement already satisfied: numpy>=1.17.3 in c:\\users\\dell\\anaconda3\\lib\\site-packages (from imbalanced-learn) (1.24.3)\n",
      "Requirement already satisfied: scipy>=1.5.0 in c:\\users\\dell\\anaconda3\\lib\\site-packages (from imbalanced-learn) (1.11.1)\n",
      "Requirement already satisfied: scikit-learn>=1.0.2 in c:\\users\\dell\\anaconda3\\lib\\site-packages (from imbalanced-learn) (1.3.0)\n",
      "Requirement already satisfied: joblib>=1.1.1 in c:\\users\\dell\\anaconda3\\lib\\site-packages (from imbalanced-learn) (1.2.0)\n",
      "Requirement already satisfied: threadpoolctl>=2.0.0 in c:\\users\\dell\\anaconda3\\lib\\site-packages (from imbalanced-learn) (2.2.0)\n",
      "Note: you may need to restart the kernel to use updated packages.\n"
     ]
    }
   ],
   "source": [
    "pip install imbalanced-learn"
   ]
  },
  {
   "cell_type": "code",
   "execution_count": 92,
   "metadata": {},
   "outputs": [
    {
     "name": "stdout",
     "output_type": "stream",
     "text": [
      "Requirement already satisfied: imbalanced-learn in c:\\users\\dell\\anaconda3\\lib\\site-packages (0.10.1)\n",
      "Collecting imbalanced-learn\n",
      "  Downloading imbalanced_learn-0.11.0-py3-none-any.whl (235 kB)\n",
      "                                              0.0/235.6 kB ? eta -:--:--\n",
      "     -                                        10.2/235.6 kB ? eta -:--:--\n",
      "     ---------                             61.4/235.6 kB 812.7 kB/s eta 0:00:01\n",
      "     -----------                           71.7/235.6 kB 491.5 kB/s eta 0:00:01\n",
      "     -----------                           71.7/235.6 kB 491.5 kB/s eta 0:00:01\n",
      "     -----------                           71.7/235.6 kB 491.5 kB/s eta 0:00:01\n",
      "     -----------                           71.7/235.6 kB 491.5 kB/s eta 0:00:01\n",
      "     -----------                           71.7/235.6 kB 491.5 kB/s eta 0:00:01\n",
      "     -----------                           71.7/235.6 kB 491.5 kB/s eta 0:00:01\n",
      "     -------------------------------      204.8/235.6 kB 479.2 kB/s eta 0:00:01\n",
      "     -----------------------------------  235.5/235.6 kB 497.3 kB/s eta 0:00:01\n",
      "     ------------------------------------ 235.6/235.6 kB 480.6 kB/s eta 0:00:00\n",
      "Requirement already satisfied: numpy>=1.17.3 in c:\\users\\dell\\anaconda3\\lib\\site-packages (from imbalanced-learn) (1.24.3)\n",
      "Requirement already satisfied: scipy>=1.5.0 in c:\\users\\dell\\anaconda3\\lib\\site-packages (from imbalanced-learn) (1.11.1)\n",
      "Requirement already satisfied: scikit-learn>=1.0.2 in c:\\users\\dell\\anaconda3\\lib\\site-packages (from imbalanced-learn) (1.3.0)\n",
      "Requirement already satisfied: joblib>=1.1.1 in c:\\users\\dell\\anaconda3\\lib\\site-packages (from imbalanced-learn) (1.2.0)\n",
      "Requirement already satisfied: threadpoolctl>=2.0.0 in c:\\users\\dell\\anaconda3\\lib\\site-packages (from imbalanced-learn) (2.2.0)\n",
      "Installing collected packages: imbalanced-learn\n",
      "  Attempting uninstall: imbalanced-learn\n",
      "    Found existing installation: imbalanced-learn 0.10.1\n",
      "    Uninstalling imbalanced-learn-0.10.1:\n",
      "      Successfully uninstalled imbalanced-learn-0.10.1\n",
      "Successfully installed imbalanced-learn-0.11.0\n",
      "Note: you may need to restart the kernel to use updated packages.\n"
     ]
    }
   ],
   "source": [
    "pip install -U imbalanced-learn"
   ]
  },
  {
   "cell_type": "code",
   "execution_count": 91,
   "metadata": {
    "id": "ajdoX33bv8ZL"
   },
   "outputs": [],
   "source": [
    "#Balancing the data\n",
    "from imblearn.combine import SMOTEENN\n",
    "smt = SMOTEENN(sampling_strategy='all') \n",
    "x_train_smt, y_train_smt = smt.fit_resample(x_train, y_train)"
   ]
  },
  {
   "cell_type": "code",
   "execution_count": 92,
   "metadata": {
    "colab": {
     "base_uri": "https://localhost:8080/"
    },
    "id": "2HGmLmJLbVfq",
    "outputId": "4b5e4593-2d0a-4b2e-e46e-7aadba9a1178"
   },
   "outputs": [
    {
     "name": "stdout",
     "output_type": "stream",
     "text": [
      "52651\n",
      "52651\n"
     ]
    }
   ],
   "source": [
    "print(len(x_train_smt))\n",
    "print(len(y_train_smt))"
   ]
  },
  {
   "cell_type": "markdown",
   "metadata": {
    "id": "WuBVl2LqwM5d"
   },
   "source": [
    "# **Scaling**"
   ]
  },
  {
   "cell_type": "code",
   "execution_count": 93,
   "metadata": {
    "id": "kYMNwN0FxqGV"
   },
   "outputs": [],
   "source": [
    "#scaling the data\n",
    "from sklearn.preprocessing import StandardScaler\n",
    "scaler = StandardScaler()\n",
    "x_train_scaled = scaler.fit_transform(x_train_smt)\n",
    "x_test_scaled = scaler.transform(x_test)"
   ]
  },
  {
   "cell_type": "markdown",
   "metadata": {
    "id": "8L4okmHG2XlN"
   },
   "source": [
    "# **Modelling**"
   ]
  },
  {
   "cell_type": "markdown",
   "metadata": {
    "id": "ypN1EiLY2Zyk"
   },
   "source": [
    "## **Logistic Regression**\n"
   ]
  },
  {
   "cell_type": "code",
   "execution_count": 94,
   "metadata": {
    "colab": {
     "base_uri": "https://localhost:8080/"
    },
    "id": "nNhNES_BCwjq",
    "outputId": "dccfb8b7-989e-4630-d07f-1161f0ad58e3"
   },
   "outputs": [
    {
     "data": {
      "text/plain": [
       "0.764760361194721"
      ]
     },
     "execution_count": 94,
     "metadata": {},
     "output_type": "execute_result"
    }
   ],
   "source": [
    "\n",
    "from sklearn.linear_model import LogisticRegression\n",
    "from sklearn.metrics import roc_auc_score\n",
    "\n",
    "lr = LogisticRegression()\n",
    "\n",
    "lr.fit(x_train_scaled,y_train_smt)\n",
    "lr.score(x_test_scaled,y_test)"
   ]
  },
  {
   "cell_type": "code",
   "execution_count": 95,
   "metadata": {
    "colab": {
     "base_uri": "https://localhost:8080/"
    },
    "id": "Imep20fTDFAy",
    "outputId": "2d6dcfdc-bd09-42d0-d0ef-a9b296ac8755"
   },
   "outputs": [
    {
     "data": {
      "text/plain": [
       "array([[0.8759988 , 0.1240012 ],\n",
       "       [0.99083775, 0.00916225],\n",
       "       [0.88891859, 0.11108141],\n",
       "       ...,\n",
       "       [0.23297198, 0.76702802],\n",
       "       [0.14229395, 0.85770605],\n",
       "       [0.97130158, 0.02869842]])"
      ]
     },
     "execution_count": 95,
     "metadata": {},
     "output_type": "execute_result"
    }
   ],
   "source": [
    "y_pred=lr.predict_proba(x_test_scaled)\n",
    "y_pred"
   ]
  },
  {
   "cell_type": "code",
   "execution_count": 96,
   "metadata": {
    "colab": {
     "base_uri": "https://localhost:8080/"
    },
    "id": "bfihA6mZgIwe",
    "outputId": "9b45af32-46a2-4e40-e750-0cf9f9fc5b4c"
   },
   "outputs": [
    {
     "name": "stdout",
     "output_type": "stream",
     "text": [
      "AUROC score for logistic regression  :   0.88\n"
     ]
    }
   ],
   "source": [
    "log_reg_auroc = roc_auc_score(y_test,y_pred[:,1])\n",
    "print(\"AUROC score for logistic regression  :  \",round(log_reg_auroc,2))"
   ]
  },
  {
   "cell_type": "markdown",
   "metadata": {
    "id": "oAH81lpIrPx_"
   },
   "source": [
    "## **K-Nearest Neighbour (KNN)**"
   ]
  },
  {
   "cell_type": "code",
   "execution_count": 97,
   "metadata": {
    "colab": {
     "base_uri": "https://localhost:8080/"
    },
    "id": "eEINWmLZsk_w",
    "outputId": "7ec8cd53-5d31-4d37-9379-59c425891636"
   },
   "outputs": [
    {
     "name": "stdout",
     "output_type": "stream",
     "text": [
      "K value : 1 Train Score :  1.0 Cross Value Accuracy : 0.8681404499806875\n",
      "K value : 2 Train Score :  0.9958595278342292 Cross Value Accuracy : 0.8888634071499076\n",
      "K value : 3 Train Score :  0.9768475432565383 Cross Value Accuracy : 0.8846967404832411\n",
      "K value : 4 Train Score :  0.9774553189872937 Cross Value Accuracy : 0.8927992629071714\n",
      "K value : 5 Train Score :  0.9672750754971415 Cross Value Accuracy : 0.8902528324964593\n",
      "K value : 6 Train Score :  0.9675789633625193 Cross Value Accuracy : 0.8934941096948629\n",
      "K value : 7 Train Score :  0.9605705494672466 Cross Value Accuracy : 0.8929158083344062\n",
      "K value : 8 Train Score :  0.9599057947617329 Cross Value Accuracy : 0.8940726792841508\n",
      "K value : 9 Train Score :  0.9559932384949954 Cross Value Accuracy : 0.8939564020857474\n",
      "K value : 10 Train Score :  0.9544927921596931 Cross Value Accuracy : 0.8954615681730399\n",
      "K value : 20 Train Score :  0.9384437142694346 Cross Value Accuracy : 0.8938409295738381\n",
      "K value : 30 Train Score :  0.9328217887599476 Cross Value Accuracy : 0.8927984582206772\n",
      "K value : 40 Train Score :  0.9289282254847961 Cross Value Accuracy : 0.8925672449680271\n",
      "K value : 50 Train Score :  0.925832367856261 Cross Value Accuracy : 0.8924513701128707\n"
     ]
    }
   ],
   "source": [
    "from sklearn.neighbors import KNeighborsClassifier \n",
    "from sklearn.model_selection import cross_val_score \n",
    "for i in [1,2,3,4,5,6,7,8,9,10,20,30,40,50]: \n",
    "  knn= KNeighborsClassifier(i)\n",
    "  knn.fit(x_train_scaled, y_train_smt) \n",
    "  print(\"K value :\", i, \"Train Score : \", knn.score(x_train_scaled,y_train_smt), \"Cross Value Accuracy :\" , np.mean(cross_val_score(knn, x_test_scaled, y_test, cv=10)))"
   ]
  },
  {
   "cell_type": "markdown",
   "metadata": {
    "id": "W73mHQHgQ_8k"
   },
   "source": [
    "**k=10 is a good cross validation accuracy of 0.895**"
   ]
  },
  {
   "cell_type": "code",
   "execution_count": 98,
   "metadata": {
    "colab": {
     "base_uri": "https://localhost:8080/"
    },
    "id": "Y7OimOQitahW",
    "outputId": "b3dfedd8-02ca-4145-e01e-131d684c04b2"
   },
   "outputs": [
    {
     "name": "stdout",
     "output_type": "stream",
     "text": [
      "KNN Score:  0.7948599212780736\n",
      "AUROC on the sampled dataset :  0.5546208679856445\n"
     ]
    }
   ],
   "source": [
    "knn= KNeighborsClassifier(i)\n",
    "knn.fit(x_train_scaled, y_train_smt)\n",
    "print(\"KNN Score: \",knn.score(x_test_scaled,y_test)) \n",
    "print( \"AUROC on the sampled dataset : \",roc_auc_score( y_test, knn.predict_proba(x_test)[:, 1]))\n",
    "     "
   ]
  },
  {
   "cell_type": "markdown",
   "metadata": {
    "id": "1rOIFWVsI-Vp"
   },
   "source": [
    "## **Decision Tree**"
   ]
  },
  {
   "cell_type": "code",
   "execution_count": 99,
   "metadata": {
    "id": "st2Zwy8JJCpb"
   },
   "outputs": [],
   "source": [
    "from sklearn.tree import DecisionTreeClassifier \n",
    "from sklearn.metrics import roc_auc_score"
   ]
  },
  {
   "cell_type": "code",
   "execution_count": 100,
   "metadata": {
    "colab": {
     "base_uri": "https://localhost:8080/"
    },
    "id": "Nj91qydsJIhN",
    "outputId": "a32396fd-f18c-4a07-b945-7eea6a29a7a0"
   },
   "outputs": [
    {
     "name": "stdout",
     "output_type": "stream",
     "text": [
      "Decision Tree Score :  1.0\n",
      "AUROC on the sampled dataset :  0.7929237823693257\n"
     ]
    }
   ],
   "source": [
    "from sklearn.tree import DecisionTreeClassifier \n",
    "from sklearn.metrics import roc_auc_score \n",
    "dt = DecisionTreeClassifier() \n",
    "dt.fit(x_train_smt,y_train_smt) \n",
    "print(\"Decision Tree Score : \", dt.score(x_train_smt,y_train_smt)) \n",
    "print( \"AUROC on the sampled dataset : \",roc_auc_score( y_test, dt.predict_proba(x_test)[:, 1]))"
   ]
  },
  {
   "cell_type": "code",
   "execution_count": 101,
   "metadata": {
    "colab": {
     "base_uri": "https://localhost:8080/"
    },
    "id": "ocNFW3IuJ7OV",
    "outputId": "e30216dd-87bb-4df9-dd33-430953fa4bbc"
   },
   "outputs": [
    {
     "name": "stdout",
     "output_type": "stream",
     "text": [
      "Depth  :  1  Training Accuracy :  0.7847714193462613  Cross val score :  0.8850428897901377\n",
      "Depth  :  2  Training Accuracy :  0.8359575316708134  Cross val score :  0.8936105210076821\n",
      "Depth  :  3  Training Accuracy :  0.8754629541699113  Cross val score :  0.895462775202781\n",
      "Depth  :  4  Training Accuracy :  0.8866118402309547  Cross val score :  0.895463177546028\n",
      "Depth  :  5  Training Accuracy :  0.9166397599285864  Cross val score :  0.8970838161452299\n",
      "Depth  :  6  Training Accuracy :  0.9294980152323793  Cross val score :  0.8948829985837519\n",
      "Depth  :  7  Training Accuracy :  0.9379878824713681  Cross val score :  0.8940726792841509\n",
      "Depth  :  8  Training Accuracy :  0.9452052192740878  Cross val score :  0.8914101057894511\n",
      "Depth  :  9  Training Accuracy :  0.9576456287629864  Cross val score :  0.8915259806446075\n",
      "Depth  :  10  Training Accuracy :  0.9655277202712199  Cross val score :  0.8925687202265996\n",
      "Depth  :  20  Training Accuracy :  0.9995061822187613  Cross val score :  0.873467340457491\n"
     ]
    }
   ],
   "source": [
    "from sklearn.metrics import accuracy_score, roc_auc_score\n",
    "from sklearn.model_selection import cross_val_score #this will help me to do cross- validation\n",
    "import numpy as np\n",
    "\n",
    "for depth in [1,2,3,4,5,6,7,8,9,10,20]:\n",
    "  dt = DecisionTreeClassifier(max_depth=depth) # will tell the DT to not grow past the given threhsold\n",
    "  # Fit dt to the training set\n",
    "  dt.fit(x_train_smt, y_train_smt) # the model is trained\n",
    "  trainAccuracy = accuracy_score(y_train_smt, dt.predict(x_train_smt)) # this is useless information - i am showing to prove a point\n",
    "  dt = DecisionTreeClassifier(max_depth=depth) # a fresh model which is not trained yet\n",
    "  valAccuracy = cross_val_score(dt, x_test_scaled, y_test, cv=10) # syntax : cross_val_Score(freshModel,fts, target, cv= 10/5)\n",
    "  print(\"Depth  : \", depth, \" Training Accuracy : \", trainAccuracy, \" Cross val score : \" ,np.mean(valAccuracy))\n"
   ]
  },
  {
   "cell_type": "markdown",
   "metadata": {
    "id": "4kveE50HUsfW"
   },
   "source": [
    "**k= 5 is the good cross validation score of 0.896**"
   ]
  },
  {
   "cell_type": "code",
   "execution_count": 102,
   "metadata": {
    "colab": {
     "base_uri": "https://localhost:8080/"
    },
    "id": "AegjXpOfOBlM",
    "outputId": "f152a803-a9ac-4d6a-903f-537cf5827d36"
   },
   "outputs": [
    {
     "name": "stdout",
     "output_type": "stream",
     "text": [
      "Decision Tree Score :  0.9166397599285864\n",
      "AUROC on the sampled dataset :  0.8636455186304128\n"
     ]
    }
   ],
   "source": [
    "dt = DecisionTreeClassifier(max_depth=5) \n",
    "dt.fit(x_train_smt,y_train_smt) \n",
    "print(\"Decision Tree Score : \", dt.score(x_train_smt,y_train_smt)) \n",
    "print( \"AUROC on the sampled dataset : \",roc_auc_score( y_test, dt.predict_proba(x_test)[:, 1]))"
   ]
  },
  {
   "cell_type": "markdown",
   "metadata": {
    "id": "_eHkQr0iOj4t"
   },
   "source": [
    "## **XG Boost**"
   ]
  },
  {
   "cell_type": "code",
   "execution_count": 104,
   "metadata": {},
   "outputs": [
    {
     "name": "stdout",
     "output_type": "stream",
     "text": [
      "Collecting xgboost\n",
      "  Using cached xgboost-1.7.6-py3-none-win_amd64.whl (70.9 MB)\n",
      "Requirement already satisfied: numpy in c:\\users\\dell\\anaconda3\\lib\\site-packages (from xgboost) (1.24.3)\n",
      "Requirement already satisfied: scipy in c:\\users\\dell\\anaconda3\\lib\\site-packages (from xgboost) (1.11.1)\n",
      "Installing collected packages: xgboost\n",
      "Successfully installed xgboost-1.7.6\n",
      "Note: you may need to restart the kernel to use updated packages.\n"
     ]
    }
   ],
   "source": [
    "pip install xgboost\n"
   ]
  },
  {
   "cell_type": "code",
   "execution_count": 105,
   "metadata": {
    "colab": {
     "base_uri": "https://localhost:8080/"
    },
    "id": "lyxRjp5VcX15",
    "outputId": "4f4ae188-f56b-46d1-fd01-aef796995a9b"
   },
   "outputs": [
    {
     "name": "stdout",
     "output_type": "stream",
     "text": [
      "Learning rate :  0.01  Train score :  0.9450342823498129  Cross-Val score :  0.8970835479163984\n",
      "Learning rate :  0.02  Train score :  0.9539799813868682  Cross-Val score :  0.896736325694176\n",
      "Learning rate :  0.03  Train score :  0.9613492621222769  Cross-Val score :  0.898125214583065\n",
      "Learning rate :  0.04  Train score :  0.9656796642039087  Cross-Val score :  0.8976619833912709\n",
      "Learning rate :  0.05  Train score :  0.969516248504302  Cross-Val score :  0.8985883116604437\n",
      "Learning rate :  0.1  Train score :  0.9784999335245295  Cross-Val score :  0.8975465108793614\n",
      "Learning rate :  0.11  Train score :  0.9792786461795597  Cross-Val score :  0.8971990204283079\n",
      "Learning rate :  0.12  Train score :  0.9800003798598317  Cross-Val score :  0.8996299783271103\n",
      "Learning rate :  0.13  Train score :  0.9810070084138953  Cross-Val score :  0.8985892504613536\n",
      "Learning rate :  0.14  Train score :  0.981690756110995  Cross-Val score :  0.8981254828118965\n",
      "Learning rate :  0.15  Train score :  0.9820136369679588  Cross-Val score :  0.8987040524011845\n",
      "Learning rate :  0.2  Train score :  0.9843877609162219  Cross-Val score :  0.8997451826101885\n",
      "Learning rate :  0.5  Train score :  0.9948149132969935  Cross-Val score :  0.897430636024205\n",
      "Learning rate :  0.7  Train score :  0.9981007008413896  Cross-Val score :  0.8946516512166859\n",
      "Learning rate :  1  Train score :  0.9995251752103473  Cross-Val score :  0.8868960827861464\n"
     ]
    }
   ],
   "source": [
    "import xgboost as xgb\n",
    "from sklearn.model_selection import cross_val_score \n",
    "import numpy as np \n",
    "for lr in [0.01,0.02,0.03,0.04,0.05,0.1,0.11,0.12,0.13,0.14,0.15,0.2,0.5,0.7,1]: \n",
    "  model = xgb.XGBClassifier(learning_rate = lr, n_estimators=100, verbosity = 0) # initialise the model \n",
    "  model.fit(x_train_smt,y_train_smt) #train the model \n",
    "  print(\"Learning rate : \", lr,\" Train score : \", model.score(x_train_smt,y_train_smt),\" Cross-Val score : \", np.mean(cross_val_score(model, x_test, y_test, cv=10)))\n",
    "     "
   ]
  },
  {
   "cell_type": "markdown",
   "metadata": {
    "id": "0tTAT5eHwer_"
   },
   "source": [
    "**Learning Rate 0.2 is getting the best cross validation score of 0.899**"
   ]
  },
  {
   "cell_type": "markdown",
   "metadata": {
    "id": "AXdUg_kdxQlB"
   },
   "source": [
    "## **Random Forest**"
   ]
  },
  {
   "cell_type": "code",
   "execution_count": 106,
   "metadata": {
    "id": "ClTqTerxxVIo"
   },
   "outputs": [],
   "source": [
    "from sklearn.ensemble import RandomForestClassifier\n",
    "rf= RandomForestClassifier(max_depth=2,n_estimators=100,max_features=\"sqrt\")    #max_depth=log(no of features)\n",
    "rf.fit(x_train, y_train)\n",
    "y_pred= rf.predict(x_test)"
   ]
  },
  {
   "cell_type": "code",
   "execution_count": 107,
   "metadata": {
    "colab": {
     "base_uri": "https://localhost:8080/"
    },
    "id": "kaQb-bQxysSs",
    "outputId": "bd9f7289-d243-49bd-b981-cfcd081e0887"
   },
   "outputs": [
    {
     "name": "stdout",
     "output_type": "stream",
     "text": [
      "Depth  :  1  Training Accuracy :  0.9995061822187613  Cross val score :  0.8834119714385553\n",
      "Depth  :  2  Training Accuracy :  0.9995061822187613  Cross val score :  0.8849460136405115\n",
      "Depth  :  3  Training Accuracy :  0.9995061822187613  Cross val score :  0.8909085210879896\n",
      "Depth  :  4  Training Accuracy :  0.9995061822187613  Cross val score :  0.8945843532153412\n",
      "Depth  :  5  Training Accuracy :  0.9995061822187613  Cross val score :  0.8967841894755718\n",
      "Depth  :  6  Training Accuracy :  0.9995061822187613  Cross val score :  0.8997364745000868\n",
      "Depth  :  7  Training Accuracy :  0.9995061822187613  Cross val score :  0.9023703719842429\n",
      "Depth  :  8  Training Accuracy :  0.9995061822187613  Cross val score :  0.9039622594077045\n",
      "Depth  :  9  Training Accuracy :  0.9995061822187613  Cross val score :  0.904772746127102\n",
      "Depth  :  10  Training Accuracy :  0.9995061822187613  Cross val score :  0.9043675111471252\n"
     ]
    }
   ],
   "source": [
    "#doing cross validation to get best value of max _depth to prevent overfitted model \n",
    "from sklearn.model_selection import cross_val_score \n",
    "from sklearn.ensemble import RandomForestClassifier\n",
    "for depth in [1,2,3,4,5,6,7,8,9,10]:\n",
    "  rf= RandomForestClassifier(max_depth=depth,n_estimators=100,max_features=\"sqrt\")   # will tell the DT to not grow past the given threhsold\n",
    "  # Fit dt to the training set\n",
    "  rf.fit(x_train, y_train) # the model is trained\n",
    "  rf= RandomForestClassifier(max_depth=depth,n_estimators=100,max_features=\"sqrt\")   # a fresh model which is not trained yet\n",
    "  valAccuracy = cross_val_score(rf, x_train, y_train, cv=10) # syntax : cross_val_Score(freshModel,fts, target, cv= 10/5)\n",
    "  print(\"Depth  : \", depth, \" Training Accuracy : \", trainAccuracy, \" Cross val score : \" ,np.mean(valAccuracy))"
   ]
  },
  {
   "cell_type": "markdown",
   "metadata": {
    "id": "n-oIS0STam8e"
   },
   "source": [
    "**Depth = 8 is giving the good cross validation score fo 0.904**"
   ]
  },
  {
   "cell_type": "markdown",
   "metadata": {
    "id": "T9tlKjtyrHIe"
   },
   "source": [
    "# **Solution Statement**\n",
    "\n",
    "Models are tested, below are the AUROC value of each model\n",
    "\n",
    "*   **Logistic Regression** - AUROC Score is **0.88** \n",
    "*   **KNN** - AUROC Score is  **0.895**\n",
    "*   **Decision Tree** - AUROC Score is **0.897**\n",
    "*   **XG Boost** - AUROC Score is  **0.899**\n",
    "*   **Random Forest** - AUROC Score is **0.904**\n",
    "\n",
    "**Hence Random Forest is giving the good AUROC Score of 0.904, so Random Forest is the best model for customer convertion prediction**\n",
    "\n",
    "\n",
    "\n"
   ]
  },
  {
   "cell_type": "markdown",
   "metadata": {
    "id": "gIip1cqFd0sK"
   },
   "source": [
    "# **Feature Importance**"
   ]
  },
  {
   "cell_type": "code",
   "execution_count": 109,
   "metadata": {
    "colab": {
     "base_uri": "https://localhost:8080/",
     "height": 301
    },
    "id": "qKqM1MUKgoU7",
    "outputId": "a56ffbed-c448-49a2-abff-116154718300"
   },
   "outputs": [
    {
     "data": {
      "image/png": "[encoded data removed]",
      "text/plain": [
       "<Figure size 640x480 with 1 Axes>"
      ]
     },
     "metadata": {},
     "output_type": "display_data"
    }
   ],
   "source": [
    "from xgboost import plot_importance\n",
    "\n",
    "# plot feature importance\n",
    "plot_importance(model)\n",
    "plt.show()"
   ]
  },
  {
   "cell_type": "code",
   "execution_count": 110,
   "metadata": {
    "colab": {
     "base_uri": "https://localhost:8080/"
    },
    "id": "LL0P-u7yxZq7",
    "outputId": "439c8c00-1df0-491b-fabd-fb4050917360"
   },
   "outputs": [
    {
     "data": {
      "text/plain": [
       "Index(['age', 'job', 'marital', 'education_qual', 'call_type', 'day', 'mon',\n",
       "       'dur', 'num_calls', 'prev_outcome', 'y', 'target'],\n",
       "      dtype='object')"
      ]
     },
     "execution_count": 110,
     "metadata": {},
     "output_type": "execute_result"
    }
   ],
   "source": [
    "df.columns"
   ]
  },
  {
   "cell_type": "markdown",
   "metadata": {
    "id": "mm_E054wYKSy"
   },
   "source": [
    "f0 - Age, f1 - Job, f2 - marital status, f3- educational qualification, \n",
    "f4 - call type, f5 - day, f6 - mon, f7 -dur, f8 - number of calls, \n",
    "f9 - previous outcome f10 - y \n"
   ]
  },
  {
   "cell_type": "markdown",
   "metadata": {
    "id": "MI8IWFRHY70z"
   },
   "source": [
    "### **Conclusion:**\n",
    "\n",
    "Based on the Feature Importance given by best machine Learning that will predict if a client subscribed to the insurance.\n",
    "\n",
    "The client should focused on the top few features of order given below to have them subscribed to the insurance.\n",
    "\n",
    "*   Duration - Longer the call better influncing the clients\n",
    "*   Age - Age of the person plays an important role in insurance. Middle age people are targeted more and people who suscribed to insurance also middle age people.  \n",
    "*   Day - People who subscribed to insurance are mostly mid of the month.\n",
    "*   Month - In the month of may people subscribed to insurance are more.\n",
    "*   Job - In this blue collar people are targeted more but people who subscribed more are from management job.\n"
   ]
  },
  {
   "cell_type": "code",
   "execution_count": null,
   "metadata": {
    "id": "pkJSM9YGdiJJ"
   },
   "outputs": [],
   "source": []
  }
 ],
 "metadata": {
  "colab": {
   "authorship_tag": "ABX9TyMlWRi8F1W1l+n13/Yf9lLY",
   "include_colab_link": true,
   "provenance": []
  },
  "kernelspec": {
   "display_name": "Python 3 (ipykernel)",
   "language": "python",
   "name": "python3"
  },
  "language_info": {
   "codemirror_mode": {
    "name": "ipython",
    "version": 3
   },
   "file_extension": ".py",
   "mimetype": "text/x-python",
   "name": "python",
   "nbconvert_exporter": "python",
   "pygments_lexer": "ipython3",
   "version": "3.11.3"
  }
 },
 "nbformat": 4,
 "nbformat_minor": 1
}
